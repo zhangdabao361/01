{
 "cells": [
  {
   "cell_type": "markdown",
   "metadata": {},
   "source": [
    "# FLIP (00): Data Science \n",
    "**(Module 04: Probability Theory)**\n",
    "\n",
    "---\n",
    "- Materials in this module include resources collected from various open-source online repositories.\n",
    "- You are free to use,but NOT allowed to change and distribute this package.\n",
    "\n",
    "Prepared by and for \n",
    "**Student Members** |\n",
    "2006-2018 [TULIP Lab](http://www.tulip.org.au), Australia\n",
    "\n",
    "---\n",
    "\n",
    "## Session 1 Probability theory\n",
    "### Example：use Python to implement Sample mean ... the basic concept ."
   ]
  },
  {
   "cell_type": "markdown",
   "metadata": {},
   "source": [
    "A histogram is used to describe the maximum value, minimum value and maximum value of a random number.Output this four information： Sample mean，Sample variance，Asymmetric selectivity，Sample earnings "
   ]
  },
  {
   "cell_type": "markdown",
   "metadata": {},
   "source": [
    "#### Mean, Variance and Moments"
   ]
  },
  {
   "cell_type": "markdown",
   "metadata": {},
   "source": [
    "Let X be a random variable.\n",
    "■ the mean μ(X) is E(X)\n",
    "\n",
    "■ the variance Var(X) = $σ^2$(X) is E((X −E(X))<sup>2</sup>)\n",
    "\n",
    "■ the standard deviation σ(X) is √(σ(X))\n",
    "\n",
    "■ the k-th moment m<sub>k</sub>(X) is E(X<sup>k</sup>)\n",
    "\n",
    "■ the k-th central moment m<sub>k</sub>(X) is E((X −E(X))<sup>k</sup>)\n",
    "\n",
    "We have σ<sup>2</sup>(X) = E(X<sup>2</sup>)−(E(X))<sup>2</sup>\n",
    "\n",
    "\n",
    "\n",
    "■ $σ^2$(X) = E((X −E(X))<sup>2</sup>) = E(X<sup>2</sup> +E<sup>2</sup>(X)−2XE(X)) = E(X<sup>2</sup>)+E<sup>2</sup>(X)−2E(X)E(X) =E(X<sup>2</sup>)−(E(X))<sup>2</sup>\n",
    "\n",
    "\n",
    "\n"
   ]
  },
  {
   "cell_type": "code",
   "execution_count": null,
   "metadata": {},
   "outputs": [],
   "source": [
    "import numpy as np\n",
    "from numpy.random import randn\n",
    "import matplotlib.pyplot as plt\n",
    "%matplotlib inline"
   ]
  },
  {
   "cell_type": "code",
   "execution_count": null,
   "metadata": {},
   "outputs": [],
   "source": [
    "m=100\n",
    "n=10000"
   ]
  },
  {
   "cell_type": "code",
   "execution_count": null,
   "metadata": {},
   "outputs": [],
   "source": [
    "min=[]\n",
    "max=[]\n",
    "max_abs=[]\n",
    "for i in range(n):\n",
    "    gaussian_numbers = randn(m)\n",
    "    min.append(gaussian_numbers.min())\n",
    "    max.append(gaussian_numbers.max())\n",
    "    max_abs.append(np.abs(gaussian_numbers).max())"
   ]
  },
  {
   "cell_type": "code",
   "execution_count": null,
   "metadata": {},
   "outputs": [],
   "source": [
    "def hist(x,color,description):\n",
    "    plt.figure(figsize=(10,5))\n",
    "    plt.hist(x,60,facecolor=color, alpha=0.75,histtype='bar', rwidth=0.95)\n",
    "    plt.title(description)\n",
    "    plt.xlabel(\"signification\")\n",
    "    plt.ylabel(\"frequency\")\n",
    "    plt.grid(True)\n",
    "    plt.show()"
   ]
  },
  {
   "cell_type": "code",
   "execution_count": null,
   "metadata": {},
   "outputs": [],
   "source": [
    "hist(max,\"blue\",\"Maximum\")\n",
    "hist(min,\"red\",\"Minimum \")\n",
    "hist(max_abs,\"green\",\"Modulus maxima\")"
   ]
  },
  {
   "cell_type": "code",
   "execution_count": null,
   "metadata": {},
   "outputs": [],
   "source": [
    "def moments(x,n):\n",
    "    return np.mean((x-np.mean(x))**n)"
   ]
  },
  {
   "cell_type": "code",
   "execution_count": null,
   "metadata": {},
   "outputs": [],
   "source": [
    "def characteristics(x):\n",
    "    print(\"Sample mean: \",np.mean(x))\n",
    "    print(\"Sample variance: \",moments(x,2))\n",
    "    print(\"Asymmetric selectivity: \",moments(x,3))\n",
    "    print(\"Sample earnings: \",moments(x,4))"
   ]
  },
  {
   "cell_type": "code",
   "execution_count": null,
   "metadata": {},
   "outputs": [],
   "source": [
    "print(\"\\n Maximum: \\n\")\n",
    "characteristics(max)\n",
    "\n",
    "print(\"\\n Minimum: \\n\")\n",
    "characteristics(min)\n",
    "\n",
    "print(\"\\n Modulus maxima :\\n\")\n",
    "characteristics(max_abs)\n"
   ]
  }
 ],
 "metadata": {
  "anaconda-cloud": {},
  "kernelspec": {
   "display_name": "Python 3",
   "language": "python",
   "name": "python3"
  },
  "language_info": {
   "codemirror_mode": {
    "name": "ipython",
    "version": 3
   },
   "file_extension": ".py",
   "mimetype": "text/x-python",
   "name": "python",
   "nbconvert_exporter": "python",
   "pygments_lexer": "ipython3",
   "version": "3.7.6"
  }
 },
 "nbformat": 4,
 "nbformat_minor": 2
}
