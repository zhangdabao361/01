{
 "cells": [
  {
   "cell_type": "markdown",
   "metadata": {},
   "source": [
    "# FLIP (00): Data Science \n",
    "**(Module 04: Probability Theory)**\n",
    "\n",
    "---\n",
    "- Materials in this module include resources collected from various open-source online repositories.\n",
    "- You are free to use,but NOT allowed to change and distribute this package.\n",
    "\n",
    "Prepared by and for \n",
    "**Student Members** |\n",
    "2006-2018 [TULIP Lab](http://www.tulip.org.au), Australia\n",
    "\n",
    "---\n",
    "\n",
    "## Session 2     Process"
   ]
  },
  {
   "cell_type": "markdown",
   "metadata": {},
   "source": [
    "Generate random variables"
   ]
  },
  {
   "cell_type": "code",
   "execution_count": null,
   "metadata": {
    "collapsed": false
   },
   "outputs": [],
   "source": [
    "import math\n",
    "import random\n",
    "import numpy as np\n",
    "import matplotlib.pyplot as plt\n",
    "from scipy.stats import expon as E\n",
    "\n",
    "def exp(lam):\n",
    "    p=random.random()#Used to generate a 0 to 1 random number of points: 0 <= n < 1.0\n",
    "    return -math.log(1-p)/lam\n",
    "\n",
    "x1=[]\n",
    "for i in range(100):\n",
    "    x1.append(exp(1))\n",
    "x1=sorted(x1)\n",
    "y1=np.linspace(0,1,100)\n",
    "plt.plot(x1,y1,color='blue')\n",
    "\n",
    "rv=E(scale=1)\n",
    "x2=np.linspace(0,5,100)\n",
    "plt.plot(x2,rv.cdf(x2),color='red')\n",
    "plt.show()"
   ]
  },
  {
   "cell_type": "markdown",
   "metadata": {
    "collapsed": true
   },
   "source": [
    "Binomial distribution\n",
    "\n",
    "\n",
    "In probability theory and statistics, the binomial distribution with parameters n and p is the discrete probability distribution of the number of successes in a sequence of n independent experiments, each asking a yes–no question, and each with its own boolean-valued outcome: a random variable containing single bit of information: success/yes/true/one (with probability p) or failure/no/false/zero (with probability q = 1 − p). A single success/failure experiment is also called a Bernoulli trial or Bernoulli experiment and a sequence of outcomes is called a Bernoulli process; for a single trial, i.e., n = 1, the binomial distribution is a Bernoulli distribution."
   ]
  },
  {
   "cell_type": "code",
   "execution_count": null,
   "metadata": {
    "collapsed": false
   },
   "outputs": [],
   "source": [
    "import numpy as np\n",
    "import matplotlib.pyplot as plt\n",
    "from scipy.stats import binom as B\n",
    "\n",
    "rv=B(10,0.5)#n=10,p=0.5\n",
    "x=np.arange(0,11,1)#Create an arithmetic array\n",
    "y=rv.pmf(x)\n",
    "\n",
    "print(y)\n",
    "plt.bar(x,y,width=0.6,color='grey')\n",
    "plt.show()\n"
   ]
  },
  {
   "cell_type": "markdown",
   "metadata": {},
   "source": [
    "The digital feature of  Binomial Distribution"
   ]
  },
  {
   "cell_type": "code",
   "execution_count": null,
   "metadata": {
    "collapsed": false
   },
   "outputs": [],
   "source": [
    "from scipy.stats import binom\n",
    "\n",
    "rv=binom(10,0.2)\n",
    "print(rv.mean())\n",
    "print(rv.var())#variance\n",
    "print(rv.moment(1))#k-th moment\n",
    "print(rv.moment(2))\n",
    "print(rv.moment(3))\n",
    "print(rv.moment(4))\n",
    "print(rv.stats(moments='mvsk'))#mean，variance，Skewness，Kurtosis"
   ]
  },
  {
   "cell_type": "markdown",
   "metadata": {},
   "source": [
    "### Geometric distribution\n",
    "\n",
    "\n",
    "In probability theory and statistics, the geometric distribution is either of two discrete probability distributions:\n",
    "\n",
    "    The probability distribution of the number X of Bernoulli trials needed to get one success, supported on the set { 1, 2, 3, ...}\n",
    "    The probability distribution of the number Y = X − 1 of failures before the first success, supported on the set { 0, 1, 2, 3, ... }\n",
    "\n",
    "Which of these one calls \"the\" geometric distribution is a matter of convention and convenience.\n",
    "\n",
    "These two different geometric distributions should not be confused with each other. Often, the name shifted geometric distribution is adopted for the former one (distribution of the number X); however, to avoid ambiguity, it is considered wise to indicate which is intended, by mentioning the support explicitly.\n",
    "\n",
    "The geometric distribution gives the probability that the first occurrence of success requires k independent trials, each with success probability p. If the probability of success on each trial is p, then the probability that the kth trial (out of k trials) is the first success is    \n",
    "Pr(X = k) = (1-P)<sup>k-1</sup> P\n",
    "\n",
    "for k = 1, 2, 3, ....\n",
    "\n",
    "The above form of the geometric distribution is used for modeling the number of trials up to and including the first success. By contrast, the following form of the geometric distribution is used for modeling the number of failures until the first success:\n",
    "\n",
    "Pr(Y = k) = (1-P)<sup>k</sup> P\n",
    "\n",
    "for k = 0, 1, 2, 3, ....\n",
    "\n",
    "In either case, the sequence of probabilities is a geometric sequence."
   ]
  },
  {
   "cell_type": "code",
   "execution_count": null,
   "metadata": {
    "collapsed": false
   },
   "outputs": [],
   "source": [
    "import numpy as np\n",
    "import matplotlib.pyplot as plt\n",
    "from scipy.stats import geom as G\n",
    "\n",
    "rv=G(0.2)#p=0.2\n",
    "x=np.arange(1,11,1)\n",
    "y=rv.pmf(x)\n",
    "\n",
    "plt.bar(x,y,width=0.6,color='grey')\n",
    "plt.show()\n",
    "print(y)"
   ]
  },
  {
   "cell_type": "markdown",
   "metadata": {},
   "source": [
    "Gamma distribution (special case：Exponential Distribution) "
   ]
  },
  {
   "cell_type": "markdown",
   "metadata": {},
   "source": [
    "In probability theory and statistics, the exponential distribution (also known as negative exponential distribution) is the probability distribution that describes the time between events in a Poisson point process, i.e. a process in which events occur continuously and independently at a constant average rate. It is a particular case of the gamma distribution. It is the continuous analogue of the geometric distribution, and it has the key property of being memoryless. In addition to being used for the analysis of Poisson point processes it is found in various other contexts.\n",
    "\n",
    "The exponential distribution is not the same as the class of exponential families of distributions, which is a large class of probability distributions that includes the exponential distribution as one of its members, but also includes the normal distribution, binomial distribution, gamma distribution, Poisson, and many others.\n"
   ]
  },
  {
   "cell_type": "code",
   "execution_count": null,
   "metadata": {
    "collapsed": true
   },
   "outputs": [],
   "source": [
    "import numpy as np\n",
    "import matplotlib.pyplot as plt\n",
    "from scipy.stats import expon as E\n",
    "\n",
    "rv1=E(scale=1.5)\n",
    "rv2=E(scale=1.0)\n",
    "rv4=E(scale=1.0)\n",
    "rv3=E(scale=0.5)\n",
    "\n",
    "x=np.linspace(0,20,100)\n",
    "plt.plot(x,rv1.pdf(x),color='green')\n",
    "plt.plot(x,rv2.pdf(x),color='blue')\n",
    "plt.plot(x,rv3.pdf(x),color='red')\n",
    "plt.plot(x,rv3.cdf(x),color='red')#pdf(x)+cdf(x)=1\n",
    "\n",
    "\n",
    "plt.show()"
   ]
  },
  {
   "cell_type": "markdown",
   "metadata": {},
   "source": [
    "The digital feature of Exponential Distribution"
   ]
  },
  {
   "cell_type": "code",
   "execution_count": null,
   "metadata": {
    "collapsed": false
   },
   "outputs": [],
   "source": [
    "from scipy.stats import expon\n",
    "import numpy as np\n",
    "from scipy import  integrate\n",
    "\n",
    "\n",
    "rv=expon(scale=2)\n",
    "print(rv.mean())\n",
    "print(rv.var())#variance\n",
    "print(rv.moment(1))#k-th moment\n",
    "print(rv.moment(2))\n",
    "print(rv.moment(3))\n",
    "print(rv.moment(4))\n",
    "print(rv.stats(moments='mvsk'))\n",
    "\n",
    "\n",
    "\n",
    "#Integral Calculates the numerical characteristics of any given probability distribution, using an exponential distribution as an example\n",
    "E1=lambda x:x*0.5*np.exp(-x/2)\n",
    "E2=lambda x:x**2*0.5*np.exp(-x/2)\n",
    "print(integrate.quad(E1,0,np.inf))#0 to infinity\n",
    "print(integrate.quad(E2,0,np.inf))\n",
    "\n",
    "\n",
    "print(expon(scale=2).moment(1))\n",
    "print(expon(scale=2).moment(2))\n"
   ]
  },
  {
   "cell_type": "markdown",
   "metadata": {},
   "source": [
    "Normal distribution"
   ]
  },
  {
   "cell_type": "markdown",
   "metadata": {},
   "source": [
    "Normal distribution ,  also known as Gaussian distribution ."
   ]
  },
  {
   "cell_type": "markdown",
   "metadata": {},
   "source": [
    "In probability theory, the normal (or Gaussian) distribution is a very common continuous probability distribution. Normal distributions are important in statistics and are often used in the natural and social sciences to represent real-valued random variables whose distributions are not known. A random variable with a Gaussian distribution is said to be normally distributed and is called a normal deviate.\n",
    "\n",
    "The normal distribution is useful because of the central limit theorem. In its most general form, under some conditions (which include finite variance), it states that averages of samples of observations of random variables independently drawn from independent distributions converge in distribution to the normal, that is, become normally distributed when the number of observations is sufficiently large. Physical quantities that are expected to be the sum of many independent processes (such as measurement errors) often have distributions that are nearly normal.[3] Moreover, many results and methods (such as propagation of uncertainty and least squares parameter fitting) can be derived analytically in explicit form when the relevant variables are normally distributed.\n",
    "\n",
    "The normal distribution is sometimes informally called the bell curve. However, many other distributions are bell-shaped (such as the Cauchy, Student's t, and logistic distributions). Even the term Gaussian bell curve is ambiguous because it may be used to refer to some function defined in terms of the Gaussian function which is not a probability distribution because it is not normalized (does not integrate to 1).\n",
    "\n",
    "\n",
    "  \n"
   ]
  },
  {
   "cell_type": "code",
   "execution_count": null,
   "metadata": {
    "collapsed": true
   },
   "outputs": [],
   "source": [
    "import numpy as np\n",
    "import matplotlib.pyplot as plt\n",
    "from scipy.stats import norm as N\n",
    "\n",
    "x=np.linspace(-10,10,100)#Create arithmetic sequence, start, end, number\n",
    "rv1=N(loc=0,scale=1)#loc=u,sclae=o\n",
    "rv2=N(loc=-5,scale=1)\n",
    "rv3=N(loc=0,scale=3)\n",
    "\n",
    "plt.plot(x,rv1.pdf(x),color='green')\n",
    "plt.plot(x,rv2.pdf(x),color='blue')\n",
    "plt.plot(x,rv3.pdf(x),color='red')\n",
    "plt.show()"
   ]
  },
  {
   "cell_type": "markdown",
   "metadata": {},
   "source": [
    "Normal distribution ' mean\n"
   ]
  },
  {
   "cell_type": "code",
   "execution_count": null,
   "metadata": {
    "collapsed": false
   },
   "outputs": [],
   "source": [
    "from scipy.stats import norm\n",
    "\n",
    "f1=lambda x:x**4\n",
    "f2=lambda x:x**2-x+2\n",
    "\n",
    "print(norm.expect(f1,loc=1,scale=2))\n",
    "print(norm.expect(f2,loc=1,scale=5))"
   ]
  },
  {
   "cell_type": "markdown",
   "metadata": {},
   "source": [
    "Poisson distribution"
   ]
  },
  {
   "cell_type": "markdown",
   "metadata": {},
   "source": [
    "In probability theory and statistics, the Poisson distribution  is a discrete probability distribution that expresses the probability of a given number of events occurring in a fixed interval of time or space if these events occur with a known constant rate and independently of the time since the last event. The Poisson distribution can also be used for the number of events in other specified intervals such as distance, area or volume.\n",
    "\n",
    "For instance, an individual keeping track of the amount of mail they receive each day may notice that they receive an average number of 4 letters per day. If receiving any particular piece of mail does not affect the arrival times of future pieces of mail, i.e., if pieces of mail from a wide range of sources arrive independently of one another, then a reasonable assumption is that the number of pieces of mail received in a day obeys a Poisson distribution.Other examples that may follow a Poisson include the number of phone calls received by a call center per hour and the number of decay events per second from a radioactive source.\n"
   ]
  },
  {
   "cell_type": "code",
   "execution_count": null,
   "metadata": {
    "collapsed": false
   },
   "outputs": [],
   "source": [
    "import numpy as np\n",
    "import matplotlib.pyplot as plt\n",
    "from scipy.stats import poisson as Pie\n",
    "\n",
    "rv=Pie(4.5)#leimida=4.5\n",
    "x=np.arange(0,11,1)\n",
    "y=rv.pmf(x)\n",
    "\n",
    "plt.bar(x,y,width=0.6,color='grey')\n",
    "plt.show()\n",
    "print(y)"
   ]
  },
  {
   "cell_type": "markdown",
   "metadata": {},
   "source": [
    "Poisson distribution of digital features"
   ]
  },
  {
   "cell_type": "code",
   "execution_count": null,
   "metadata": {
    "collapsed": false
   },
   "outputs": [],
   "source": [
    "from scipy.stats import poisson\n",
    "\n",
    "rv=poisson(mu=5)\n",
    "print(rv.mean())#Expected value\n",
    "print(rv.var())#variance\n",
    "print(rv.moment(1))#k-th moment\n",
    "print(rv.moment(2))\n",
    "print(rv.moment(3))\n",
    "print(rv.moment(4))\n",
    "print(rv.stats(moments='mvsk'))"
   ]
  }
 ],
 "metadata": {
  "anaconda-cloud": {},
  "kernelspec": {
   "display_name": "Python [conda root]",
   "language": "python",
   "name": "conda-root-py"
  },
  "language_info": {
   "codemirror_mode": {
    "name": "ipython",
    "version": 3
   },
   "file_extension": ".py",
   "mimetype": "text/x-python",
   "name": "python",
   "nbconvert_exporter": "python",
   "pygments_lexer": "ipython3",
   "version": "3.5.2"
  }
 },
 "nbformat": 4,
 "nbformat_minor": 1
}
