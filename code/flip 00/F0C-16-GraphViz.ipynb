{
 "cells": [
  {
   "cell_type": "markdown",
   "metadata": {},
   "source": [
    "# FLIP (00): Data Science \n",
    "**(Module 02: Data Visualization)**\n",
    "\n",
    "---\n",
    "- Materials in this module include resources collected from various open-source online repositories.\n",
    "- You are free to use,but NOT allowed to change and distribute this package.\n",
    "\n",
    "Prepared by and for \n",
    "**Student Members** |\n",
    "2006-2018 [TULIP Lab](http://www.tulip.org.au), Australia\n",
    "\n",
    "---\n",
    "\n",
    "# Session Q - GraphViz\n",
    "\n",
    "Graphviz is open source graph visualization software. It has several main graph layout programs. The Graphviz layout tools take descriptions of graphs in a simple text language, and make diagrams in several useful formats such as images and SVG for web pages, Postscript for inclusion in PDF or other documents; or display in an interactive graph browser. \n",
    "\n",
    "Graphviz layout tools accept inputs in the `DOT` language, which describes :\n",
    "* graphs\n",
    "* nodes\n",
    "* edges\n",
    "\n",
    "We can use `DOT` language to describe the graph structure, and specify the shape, color etc. \n",
    "\n",
    "[Adapted from here](http://graphviz.readthedocs.io/en/stable/index.html)\n",
    "\n",
    "\n",
    "`graphviz` provides a simple pure-Python interface for the Graphviz graph-drawing software. To install it with pip run the following:\n"
   ]
  },
  {
   "cell_type": "code",
   "execution_count": null,
   "metadata": {
    "collapsed": true
   },
   "outputs": [],
   "source": [
    "!pip install graphviz"
   ]
  },
  {
   "cell_type": "markdown",
   "metadata": {},
   "source": [
    "The `graphviz` module provides two classes: `Graph` and `Digraph`. They create graph descriptions in the [DOT](https://www.graphviz.org/doc/info/lang.html) language for undirected and directed graphs respectively. They have the same [API](http://graphviz.readthedocs.io/en/stable/api.html#api).\n",
    "\n"
   ]
  },
  {
   "cell_type": "markdown",
   "metadata": {},
   "source": [
    "## Basic Components"
   ]
  },
  {
   "cell_type": "markdown",
   "metadata": {},
   "source": [
    "Create a graph by instantiating a new `Graph` or `Digraph` object:\n",
    "\n"
   ]
  },
  {
   "cell_type": "code",
   "execution_count": null,
   "metadata": {
    "collapsed": true
   },
   "outputs": [],
   "source": [
    "from graphviz import Digraph\n",
    "\n",
    "dot = Digraph(comment='The Round Table')"
   ]
  },
  {
   "cell_type": "markdown",
   "metadata": {},
   "source": [
    "Their constructors allow to set the graph’s `name`, the `filename` for the DOT source and the rendered graph, a `comment` for the first source code line, etc.\n",
    "\n",
    "Add nodes and edges to the graph object using its `node()` and `edge()` or `edges()` methods:\n",
    "\n",
    "The `node()` method takes a name identifier as first argument and an optional label. The `edge()` method takes the names of start- and end-node, while `edges()` takes iterable of name-pairs. Keyword arguments are turned into (node and edge) attributes (see [Graphviz docs](https://www.graphviz.org/doc/info/attrs.html)).\n",
    "\n"
   ]
  },
  {
   "cell_type": "code",
   "execution_count": null,
   "metadata": {
    "collapsed": true
   },
   "outputs": [],
   "source": [
    "dot.node('A', 'King Arthur')\n",
    "dot.node('B', 'Sir Bedevere the Wise')\n",
    "dot.node('L', 'Sir Lancelot the Brave')\n",
    "\n",
    "dot.edges(['AB', 'AL'])\n",
    "dot.edge('B', 'L', constraint='false')"
   ]
  },
  {
   "cell_type": "code",
   "execution_count": null,
   "metadata": {
    "collapsed": true
   },
   "outputs": [],
   "source": [
    "print(dot.source) "
   ]
  },
  {
   "cell_type": "markdown",
   "metadata": {},
   "source": [
    "We can show the rendered graph using:"
   ]
  },
  {
   "cell_type": "code",
   "execution_count": null,
   "metadata": {
    "collapsed": true
   },
   "outputs": [],
   "source": [
    "dot"
   ]
  },
  {
   "cell_type": "markdown",
   "metadata": {},
   "source": [
    "## Styling\n",
    "\n",
    "\n",
    "Use the `graph_attr`, `node_attr`, and `edge_attr` arguments to change the default appearance of your graph, nodes, and edges."
   ]
  },
  {
   "cell_type": "code",
   "execution_count": null,
   "metadata": {
    "collapsed": true
   },
   "outputs": [],
   "source": [
    "ps = Digraph(name='pet-shop', node_attr={'shape': 'plaintext'})\n",
    "\n",
    "ps.node('parrot')\n",
    "ps.node('dead')\n",
    "ps.edge('parrot', 'dead')"
   ]
  },
  {
   "cell_type": "code",
   "execution_count": null,
   "metadata": {
    "collapsed": true
   },
   "outputs": [],
   "source": [
    "print(ps.source)"
   ]
  },
  {
   "cell_type": "code",
   "execution_count": null,
   "metadata": {
    "collapsed": true
   },
   "outputs": [],
   "source": [
    "ps"
   ]
  },
  {
   "cell_type": "code",
   "execution_count": null,
   "metadata": {
    "collapsed": true
   },
   "outputs": [],
   "source": [
    "ps.graph_attr['rankdir'] = 'LR'\n",
    "ps.edge_attr.update(arrowhead='vee', arrowsize='2')"
   ]
  },
  {
   "cell_type": "code",
   "execution_count": null,
   "metadata": {
    "collapsed": true
   },
   "outputs": [],
   "source": [
    "ps"
   ]
  },
  {
   "cell_type": "markdown",
   "metadata": {},
   "source": [
    "## Attributes\n",
    "\n",
    "To directly add attitbute statements (affecting all following graph, node, or edge items within the same (sub-)graph), use the `attr()` -method with the target as first argument:"
   ]
  },
  {
   "cell_type": "code",
   "execution_count": null,
   "metadata": {
    "collapsed": true
   },
   "outputs": [],
   "source": [
    "from graphviz import Graph\n",
    "\n",
    "ni = Graph('ni')\n",
    "\n",
    "ni.attr('node', shape='rarrow')\n",
    "ni.node('1', 'Ni!')\n",
    "ni.node('2', 'Ni!')\n",
    "\n",
    "ni.node('3', 'Ni!', shape='egg')\n",
    "\n",
    "ni.attr('node', shape='star')\n",
    "ni.node('4', 'Ni!')\n",
    "ni.node('5', 'Ni!')"
   ]
  },
  {
   "cell_type": "markdown",
   "metadata": {},
   "source": [
    "By omitting its first argument, you can use it to set arbitrary attributes as key-value pairs targeting the current (sub-)graph (e.g. for `rankdir`, `label`, or setting `rank=same` within a subgraph context):"
   ]
  },
  {
   "cell_type": "code",
   "execution_count": null,
   "metadata": {
    "collapsed": true
   },
   "outputs": [],
   "source": [
    "ni.attr(rankdir='LR')\n",
    "\n",
    "ni.edges(['12', '23', '34', '45'])"
   ]
  },
  {
   "cell_type": "code",
   "execution_count": null,
   "metadata": {
    "collapsed": true
   },
   "outputs": [],
   "source": [
    "print(ni.source)"
   ]
  },
  {
   "cell_type": "code",
   "execution_count": null,
   "metadata": {
    "collapsed": true
   },
   "outputs": [],
   "source": [
    "ni"
   ]
  },
  {
   "cell_type": "markdown",
   "metadata": {},
   "source": [
    "## Quoting and HTML-like labels\n",
    "\n",
    "The graph-building methods of `Graph` and `Digraph` objects automatically take care of quoting/escaping strings [where required](https://www.graphviz.org/doc/info/lang.html) (whitespace, keywords, double quotes, etc.):"
   ]
  },
  {
   "cell_type": "code",
   "execution_count": null,
   "metadata": {
    "collapsed": true
   },
   "outputs": [],
   "source": [
    "q = Digraph()\n",
    "q.edge('spam', 'eggs eggs')\n",
    "q.edge('node', '\"here\\'s a quote\"')\n"
   ]
  },
  {
   "cell_type": "code",
   "execution_count": null,
   "metadata": {
    "collapsed": true
   },
   "outputs": [],
   "source": [
    "print(q.source)  \n",
    "q"
   ]
  },
  {
   "cell_type": "markdown",
   "metadata": {},
   "source": [
    "If a string starts with < and ends with >, it is passed on as is, without quoting/escaping: The content between the angle brackets is treated by the engine as special HTML string that can be used for [HTML-like labels](https://graphviz.gitlab.io/_pages/doc/info/shapes.html#html):"
   ]
  },
  {
   "cell_type": "code",
   "execution_count": null,
   "metadata": {
    "collapsed": true
   },
   "outputs": [],
   "source": [
    "h = Graph('html_table')\n",
    "h.node('tab', label='''<<TABLE>\n",
    "...  <TR>\n",
    "...    <TD>left</TD>\n",
    "...    <TD>right</TD>\n",
    "...  </TR>\n",
    "... </TABLE>>''')"
   ]
  },
  {
   "cell_type": "code",
   "execution_count": null,
   "metadata": {
    "collapsed": true
   },
   "outputs": [],
   "source": [
    "print(h.source)"
   ]
  },
  {
   "cell_type": "code",
   "execution_count": null,
   "metadata": {
    "collapsed": true
   },
   "outputs": [],
   "source": [
    "h"
   ]
  },
  {
   "cell_type": "markdown",
   "metadata": {},
   "source": [
    "For strings that should literally begin with < and end with >, use the `nohtml()` function to disable the special meaning of angled parenthesis and apply normal quoting/escaping (before 0.8.2, the only workaround was to add leading or trailing space, e.g. `label=' <>'`):"
   ]
  },
  {
   "cell_type": "code",
   "execution_count": null,
   "metadata": {
    "collapsed": true
   },
   "outputs": [],
   "source": [
    "from graphviz import nohtml\n",
    "\n",
    "d = Digraph(format='svg')\n",
    "d.node('diamond', label=nohtml('<>'))"
   ]
  },
  {
   "cell_type": "code",
   "execution_count": null,
   "metadata": {
    "collapsed": true
   },
   "outputs": [],
   "source": [
    "print(d.source)  \n",
    "d"
   ]
  },
  {
   "cell_type": "markdown",
   "metadata": {},
   "source": [
    "## Subgraphs & clusters\n",
    "\n",
    "\n",
    "Graph and Digraph objects have a `subgraph()`-method for adding a subgraph to an instance.\n",
    "\n",
    "There are two ways to use it: \n",
    "\n",
    "### Usage 1\n",
    "\n",
    "Either with a ready-made graph object of the same kind as the only argument (whose content is added as a subgraph) or omitting the `graph` argument (returning a context manager for defining the subgraph content more elegantly within a `with`-block).\n",
    "\n",
    "First usage option, with graph as the only argument:"
   ]
  },
  {
   "cell_type": "code",
   "execution_count": null,
   "metadata": {
    "collapsed": true
   },
   "outputs": [],
   "source": [
    "p = Graph(name='parent')\n",
    "p.edge('spam', 'eggs')\n",
    "\n",
    "c = Graph(name='child', node_attr={'shape': 'box'})\n",
    "c.edge('foo', 'bar')\n",
    "\n",
    "p.subgraph(c)"
   ]
  },
  {
   "cell_type": "code",
   "execution_count": null,
   "metadata": {
    "collapsed": true
   },
   "outputs": [],
   "source": [
    "print(c.source)\n",
    "c"
   ]
  },
  {
   "cell_type": "code",
   "execution_count": null,
   "metadata": {
    "collapsed": true
   },
   "outputs": [],
   "source": [
    "print(p.source)\n",
    "p"
   ]
  },
  {
   "cell_type": "markdown",
   "metadata": {},
   "source": [
    "### Usage 2\n",
    "\n",
    "Second usage, with a `with`-block (omitting the graph argument):"
   ]
  },
  {
   "cell_type": "code",
   "execution_count": null,
   "metadata": {
    "collapsed": true
   },
   "outputs": [],
   "source": [
    "p = Graph(name='parent')\n",
    "p.edge('spam', 'eggs')\n",
    "\n",
    "with p.subgraph(name='child', node_attr={'shape': 'box'}) as c: c.edge('foo', 'bar')"
   ]
  },
  {
   "cell_type": "code",
   "execution_count": null,
   "metadata": {
    "collapsed": true
   },
   "outputs": [],
   "source": [
    "print(p.source)\n",
    "p"
   ]
  },
  {
   "cell_type": "markdown",
   "metadata": {},
   "source": [
    "## Custom DOT statements\n",
    "\n",
    "To add arbitrary statements to the created DOT source, use the body attribute of the `Graph` or `Digraph` object. It holds the verbatim list of lines to be written to the source file. Use its `append()` or `extend()` method.\n",
    "\n",
    "Note that you might need to correctly quote/escape identifiers and strings containing whitespace or other special characters when using this method.\n"
   ]
  },
  {
   "cell_type": "code",
   "execution_count": null,
   "metadata": {
    "collapsed": true
   },
   "outputs": [],
   "source": [
    "rt = Digraph(comment='The Round Table')\n",
    "\n",
    "rt.body.append('\\t\"King Arthur\" -> {\\n\\t\\t\"Sir Bedevere\", \"Sir Lancelot\"\\n\\t}')\n",
    "rt.edge('Sir Bedevere', 'Sir Lancelot', constraint='false')\n",
    "\n"
   ]
  },
  {
   "cell_type": "code",
   "execution_count": null,
   "metadata": {
    "collapsed": true
   },
   "outputs": [],
   "source": [
    "print(rt.source) \n",
    "rt"
   ]
  },
  {
   "cell_type": "markdown",
   "metadata": {},
   "source": [
    "## Using raw DOT\n",
    "\n",
    "To render a ready-made DOT source code string (instead of assembling one with the higher-level interface of `Graph` or `Digraph`), create a `Source` object holding your DOT string:\n",
    "\n"
   ]
  },
  {
   "cell_type": "code",
   "execution_count": null,
   "metadata": {
    "collapsed": true
   },
   "outputs": [],
   "source": [
    "from graphviz import Source\n",
    "\n",
    "src = Source('digraph \"the holy hand grenade\" { rankdir=LR; 1 -> 2 -> 3 -> lob }')\n",
    "src"
   ]
  },
  {
   "cell_type": "markdown",
   "metadata": {},
   "source": [
    "## Existing files\n",
    "\n",
    "To directly render an existing DOT source file (e.g. created with other tools), you can use the `Source.from_file()` function."
   ]
  },
  {
   "cell_type": "code",
   "execution_count": null,
   "metadata": {
    "collapsed": true
   },
   "outputs": [],
   "source": [
    "!ls *.gv\n",
    "#!rm *.gv"
   ]
  },
  {
   "cell_type": "code",
   "execution_count": null,
   "metadata": {
    "collapsed": true
   },
   "outputs": [],
   "source": [
    "from graphviz import render\n",
    "\n",
    "#import wget\n",
    "#wget.download('https://github.com/tuliplab/mds/raw/master/Jupyter/data/gvsample0.gv')\n",
    "\n",
    "\n",
    "Source.from_file('gvsample0.gv')\n"
   ]
  },
  {
   "cell_type": "code",
   "execution_count": null,
   "metadata": {
    "collapsed": true
   },
   "outputs": [],
   "source": [
    "#wget.download('https://github.com/tuliplab/mds/raw/master/Jupyter/data/gvsample1.gv')\n",
    "\n",
    "Source.from_file('gvsample1.gv')"
   ]
  },
  {
   "cell_type": "code",
   "execution_count": null,
   "metadata": {
    "collapsed": true
   },
   "outputs": [],
   "source": [
    "#wget.download('https://github.com/tuliplab/mds/raw/master/Jupyter/data/gvsample2.gv')\n",
    "\n",
    "\n",
    "Source.from_file('gvsample2.gv')"
   ]
  },
  {
   "cell_type": "code",
   "execution_count": null,
   "metadata": {
    "collapsed": true
   },
   "outputs": [],
   "source": [
    "#wget.download('https://github.com/tuliplab/mds/raw/master/Jupyter/data/gvsample3.gv')\n",
    "\n",
    "Source.from_file('gvsample3.gv')"
   ]
  },
  {
   "cell_type": "code",
   "execution_count": null,
   "metadata": {
    "collapsed": true
   },
   "outputs": [],
   "source": [
    "#wget.download('https://github.com/tuliplab/mds/raw/master/Jupyter/data/gvsample4.gv')\n",
    "\n",
    "Source.from_file('gvsample4.gv')"
   ]
  },
  {
   "cell_type": "code",
   "execution_count": null,
   "metadata": {
    "collapsed": true
   },
   "outputs": [],
   "source": []
  },
  {
   "cell_type": "markdown",
   "metadata": {},
   "source": [
    "## Examples"
   ]
  },
  {
   "cell_type": "code",
   "execution_count": null,
   "metadata": {
    "collapsed": true
   },
   "outputs": [],
   "source": []
  },
  {
   "cell_type": "code",
   "execution_count": null,
   "metadata": {
    "collapsed": true
   },
   "outputs": [],
   "source": [
    "from graphviz import Source\n",
    "\n",
    "src = Source(\n",
    "'digraph G {main->parse -> execute;main->init;main->cleanup;execute -> make_string;execute -> printf;init -> make_string;main -> printf;execute -> compare;}') \n",
    "             \n",
    "src"
   ]
  },
  {
   "cell_type": "code",
   "execution_count": null,
   "metadata": {
    "collapsed": true
   },
   "outputs": [],
   "source": [
    "# http://www.graphviz.org/content/fsm\n",
    "\n",
    "from graphviz import Digraph\n",
    "\n",
    "f = Digraph('finite_state_machine', filename='fsm.gv')\n",
    "f.attr(rankdir='LR', size='8,5')\n",
    "\n",
    "f.attr('node', shape='doublecircle')\n",
    "f.node('LR_0')\n",
    "f.node('LR_3')\n",
    "f.node('LR_4')\n",
    "f.node('LR_8')\n",
    "\n",
    "f.attr('node', shape='circle')\n",
    "f.edge('LR_0', 'LR_2', label='SS(B)')\n",
    "f.edge('LR_0', 'LR_1', label='SS(S)')\n",
    "f.edge('LR_1', 'LR_3', label='S($end)')\n",
    "f.edge('LR_2', 'LR_6', label='SS(b)')\n",
    "f.edge('LR_2', 'LR_5', label='SS(a)')\n",
    "f.edge('LR_2', 'LR_4', label='S(A)')\n",
    "f.edge('LR_5', 'LR_7', label='S(b)')\n",
    "f.edge('LR_5', 'LR_5', label='S(a)')\n",
    "f.edge('LR_6', 'LR_6', label='S(b)')\n",
    "f.edge('LR_6', 'LR_5', label='S(a)')\n",
    "f.edge('LR_7', 'LR_8', label='S(b)')\n",
    "f.edge('LR_7', 'LR_5', label='S(a)')\n",
    "f.edge('LR_8', 'LR_6', label='S(b)')\n",
    "f.edge('LR_8', 'LR_5', label='S(a)')\n",
    "\n",
    "f"
   ]
  },
  {
   "cell_type": "code",
   "execution_count": null,
   "metadata": {
    "collapsed": true
   },
   "outputs": [],
   "source": [
    "# http://www.graphviz.org/pdf/dotguide.pdf Figure 20\n",
    "\n",
    "from graphviz import Digraph\n",
    "\n",
    "g = Digraph('G', filename='cluster_edge.gv')\n",
    "g.attr(compound='true')\n",
    "\n",
    "with g.subgraph(name='cluster0') as c:\n",
    "    c.edges(['ab', 'ac', 'bd', 'cd'])\n",
    "\n",
    "with g.subgraph(name='cluster1') as c:\n",
    "    c.edges(['eg', 'ef'])\n",
    "\n",
    "g.edge('b', 'f', lhead='cluster1')\n",
    "g.edge('d', 'e')\n",
    "g.edge('c', 'g', ltail='cluster0', lhead='cluster1')\n",
    "g.edge('c', 'e', ltail='cluster0')\n",
    "g.edge('d', 'h')\n",
    "\n",
    "g"
   ]
  },
  {
   "cell_type": "code",
   "execution_count": null,
   "metadata": {
    "collapsed": true
   },
   "outputs": [],
   "source": [
    "#!/usr/bin/env python\n",
    "# unix.py - http://www.graphviz.org/content/unix\n",
    "\n",
    "from graphviz import Digraph\n",
    "\n",
    "u = Digraph('unix', filename='unix.gv')\n",
    "u.attr(size='6,6')\n",
    "u.node_attr.update(color='lightblue2', style='filled')\n",
    "\n",
    "u.edge('5th Edition', '6th Edition')\n",
    "u.edge('5th Edition', 'PWB 1.0')\n",
    "u.edge('6th Edition', 'LSX')\n",
    "u.edge('6th Edition', '1 BSD')\n",
    "u.edge('6th Edition', 'Mini Unix')\n",
    "u.edge('6th Edition', 'Wollongong')\n",
    "u.edge('6th Edition', 'Interdata')\n",
    "u.edge('Interdata', 'Unix/TS 3.0')\n",
    "u.edge('Interdata', 'PWB 2.0')\n",
    "u.edge('Interdata', '7th Edition')\n",
    "u.edge('7th Edition', '8th Edition')\n",
    "u.edge('7th Edition', '32V')\n",
    "u.edge('7th Edition', 'V7M')\n",
    "u.edge('7th Edition', 'Ultrix-11')\n",
    "u.edge('7th Edition', 'Xenix')\n",
    "u.edge('7th Edition', 'UniPlus+')\n",
    "u.edge('V7M', 'Ultrix-11')\n",
    "u.edge('8th Edition', '9th Edition')\n",
    "u.edge('1 BSD', '2 BSD')\n",
    "u.edge('2 BSD', '2.8 BSD')\n",
    "u.edge('2.8 BSD', 'Ultrix-11')\n",
    "u.edge('2.8 BSD', '2.9 BSD')\n",
    "u.edge('32V', '3 BSD')\n",
    "u.edge('3 BSD', '4 BSD')\n",
    "u.edge('4 BSD', '4.1 BSD')\n",
    "u.edge('4.1 BSD', '4.2 BSD')\n",
    "u.edge('4.1 BSD', '2.8 BSD')\n",
    "u.edge('4.1 BSD', '8th Edition')\n",
    "u.edge('4.2 BSD', '4.3 BSD')\n",
    "u.edge('4.2 BSD', 'Ultrix-32')\n",
    "u.edge('PWB 1.0', 'PWB 1.2')\n",
    "u.edge('PWB 1.0', 'USG 1.0')\n",
    "u.edge('PWB 1.2', 'PWB 2.0')\n",
    "u.edge('USG 1.0', 'CB Unix 1')\n",
    "u.edge('USG 1.0', 'USG 2.0')\n",
    "u.edge('CB Unix 1', 'CB Unix 2')\n",
    "u.edge('CB Unix 2', 'CB Unix 3')\n",
    "u.edge('CB Unix 3', 'Unix/TS++')\n",
    "u.edge('CB Unix 3', 'PDP-11 Sys V')\n",
    "u.edge('USG 2.0', 'USG 3.0')\n",
    "u.edge('USG 3.0', 'Unix/TS 3.0')\n",
    "u.edge('PWB 2.0', 'Unix/TS 3.0')\n",
    "u.edge('Unix/TS 1.0', 'Unix/TS 3.0')\n",
    "u.edge('Unix/TS 3.0', 'TS 4.0')\n",
    "u.edge('Unix/TS++', 'TS 4.0')\n",
    "u.edge('CB Unix 3', 'TS 4.0')\n",
    "u.edge('TS 4.0', 'System V.0')\n",
    "u.edge('System V.0', 'System V.2')\n",
    "u.edge('System V.2', 'System V.3')\n",
    "\n",
    "u"
   ]
  },
  {
   "cell_type": "markdown",
   "metadata": {},
   "source": [
    "## Exercises\n",
    "\n",
    "Please write script to generate the following four graphs.\n",
    "\n",
    "There are six figures below, select any four of them, and use GraphViz/DOT to reproduce them:\n",
    "\n",
    "* As you can't specify the location of labels in DOT, you can use subgraph to put several element together;\n",
    "* It is almost certain that your generated graph will be different from what is shown here, however, as long as they have the same topological structure, the implementation is correct.\n",
    "\n"
   ]
  },
  {
   "cell_type": "markdown",
   "metadata": {},
   "source": [
    "![Figure1](https://github.com/tuliplab/mds/raw/master/Jupyter/image/f1.png \"Figure 1\")"
   ]
  },
  {
   "cell_type": "code",
   "execution_count": null,
   "metadata": {
    "collapsed": true
   },
   "outputs": [],
   "source": []
  },
  {
   "cell_type": "markdown",
   "metadata": {},
   "source": [
    "![Figure 2](https://github.com/tuliplab/mds/raw/master/Jupyter/image/f2.png \"Figure 2\")"
   ]
  },
  {
   "cell_type": "code",
   "execution_count": null,
   "metadata": {
    "collapsed": true
   },
   "outputs": [],
   "source": []
  },
  {
   "cell_type": "markdown",
   "metadata": {},
   "source": [
    "![Figure 3](https://github.com/tuliplab/mds/raw/master/Jupyter/image/f3.png \"Figure 3\")"
   ]
  },
  {
   "cell_type": "code",
   "execution_count": null,
   "metadata": {
    "collapsed": true
   },
   "outputs": [],
   "source": []
  },
  {
   "cell_type": "markdown",
   "metadata": {},
   "source": [
    "![Figure 4](https://github.com/tuliplab/mds/raw/master/Jupyter/image/f4.png \"Figure 4\")"
   ]
  },
  {
   "cell_type": "code",
   "execution_count": null,
   "metadata": {
    "collapsed": true
   },
   "outputs": [],
   "source": []
  },
  {
   "cell_type": "markdown",
   "metadata": {},
   "source": [
    "![Figure 5](https://github.com/tuliplab/mds/raw/master/Jupyter/image/f5.png \"Figure 5\")"
   ]
  },
  {
   "cell_type": "code",
   "execution_count": null,
   "metadata": {
    "collapsed": true
   },
   "outputs": [],
   "source": []
  },
  {
   "cell_type": "markdown",
   "metadata": {},
   "source": [
    "![Figure 6](https://github.com/tuliplab/mds/raw/master/Jupyter/image/f6.png \"Figure 6\")"
   ]
  },
  {
   "cell_type": "code",
   "execution_count": null,
   "metadata": {
    "collapsed": true
   },
   "outputs": [],
   "source": []
  }
 ],
 "metadata": {
  "anaconda-cloud": {},
  "kernelspec": {
   "display_name": "Python [default]",
   "language": "python",
   "name": "python3"
  },
  "language_info": {
   "codemirror_mode": {
    "name": "ipython",
    "version": 3
   },
   "file_extension": ".py",
   "mimetype": "text/x-python",
   "name": "python",
   "nbconvert_exporter": "python",
   "pygments_lexer": "ipython3",
   "version": "3.5.5"
  }
 },
 "nbformat": 4,
 "nbformat_minor": 1
}
