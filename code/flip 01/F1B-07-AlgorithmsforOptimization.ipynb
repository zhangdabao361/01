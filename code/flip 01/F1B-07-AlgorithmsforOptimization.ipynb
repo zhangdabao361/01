{
 "cells": [
  {
   "cell_type": "markdown",
   "metadata": {},
   "source": [
    "# Modern Data Science \n",
    "**(Module 03: Pattern Classification)**\n",
    "\n",
    "---\n",
    "- Materials in this module include resources collected from various open-source online repositories.\n",
    "- You are free to use, change and distribute this package.\n",
    "\n",
    "Prepared by and for \n",
    "**Student Members** |\n",
    "2006-2018 [TULIP Lab](http://www.tulip.org.au), Australia\n",
    "\n",
    "---\n",
    "\n",
    "\n",
    "# Session H - Algorithms for Optimization and Root Finding for Multivariate Problems"
   ]
  },
  {
   "cell_type": "code",
   "execution_count": null,
   "metadata": {
    "collapsed": true
   },
   "outputs": [],
   "source": [
    "import os\n",
    "import sys\n",
    "import glob\n",
    "import operator as op\n",
    "import itertools as it\n",
    "from functools import reduce, partial\n",
    "import numpy as np\n",
    "import pandas as pd\n",
    "from pandas import DataFrame, Series\n",
    "import matplotlib.pyplot as plt\n",
    "import seaborn as sns\n",
    "sns.set_context(\"notebook\", font_scale=1.5)\n",
    "%matplotlib inline\n",
    "\n",
    "from sympy import symbols, hessian, Function, N"
   ]
  },
  {
   "cell_type": "markdown",
   "metadata": {},
   "source": [
    "## Newton’s Method\n",
    "Newton’s method is another line-search, and here\n",
    "$$ p_k = -H^-1▽f_k  $$\n",
    "Note that if the Hessian is not positive definite, this may not always be a descent direction.\n",
    "\n",
    "In the neighborhood of a local minimum, the Hessian will be positive definite. Now, if $x_0$ is ‘close enough’ to the minimizer $x^∗$, the step size $α_k=1$ gives quadratic convergence.\n",
    "\n",
    "The advantage of multiplying the gradient by the inverse of the Hessian is that the gradient is corrected for curvature, and the new direction points toward the minimum."
   ]
  },
  {
   "cell_type": "code",
   "execution_count": null,
   "metadata": {
    "collapsed": true
   },
   "outputs": [],
   "source": [
    "#def Quad(x):\n",
    "#    return (x[1:])*np.sin(x[:-1])**2.0)\n",
    "\n",
    "#def DQuad(x,y):\n",
    "#    return (np.array([np.cos(x)*np.sin(y)**2.0,2.0*np.sin(x)*np.cos(y)**2.0]))\n",
    "\n",
    "def Quad(x):\n",
    "    return ((x[1:])**2.0 + 5*(x[:-1])**2.0)\n",
    "\n",
    "def DQuad(x,y):\n",
    "    return (np.array([2.0*x,10.0*y]))"
   ]
  },
  {
   "cell_type": "code",
   "execution_count": null,
   "metadata": {
    "collapsed": true
   },
   "outputs": [],
   "source": [
    "x = np.linspace(-20,20, 100)\n",
    "y = np.linspace(-20,20, 100)\n",
    "X, Y = np.meshgrid(x, y)\n",
    "Z = Quad(np.vstack([X.ravel(), Y.ravel()])).reshape((100,100))\n",
    "Hinv=-np.array([[0.5,0],[0,0.1]])"
   ]
  },
  {
   "cell_type": "code",
   "execution_count": null,
   "metadata": {
    "collapsed": false
   },
   "outputs": [],
   "source": [
    "plt.figure(figsize=(12,4))\n",
    "plt.subplot(121)\n",
    "\n",
    "plt.contour(X,Y,Z);\n",
    "plt.title(\"Steepest Descent\");\n",
    "step=-0.25\n",
    "X0 = 10.0\n",
    "Y0 = 1.0\n",
    "\n",
    "Ngrad=Hinv.dot(DQuad(X0,Y0))\n",
    "\n",
    "sgrad = step*DQuad(X0,Y0)\n",
    "plt.quiver(X0,Y0,sgrad[0],sgrad[1],color='red',angles='xy',scale_units='xy',scale=1);\n",
    "X1 = X0 + sgrad[0]\n",
    "Y1 = Y0 + sgrad[1]\n",
    "sgrad = step*DQuad(X1,Y1)\n",
    "plt.quiver(X1,Y1,sgrad[0],sgrad[1],color='green',angles='xy',scale_units='xy',scale=1);\n",
    "X2 = X1 + sgrad[0]\n",
    "Y2 = Y1 + sgrad[1]\n",
    "sgrad = step*DQuad(X2,Y2)\n",
    "plt.quiver(X2,Y2,sgrad[0],sgrad[1],color='purple',angles='xy',scale_units='xy',scale=1);\n",
    "\n",
    "\n",
    "plt.subplot(122)\n",
    "plt.contour(X,Y,Z);\n",
    "plt.title(\"Newton's Method\")\n",
    "plt.quiver(X0,Y0,Ngrad[0],Ngrad[1],color='purple',angles='xy',scale_units='xy',scale=1);\n",
    "\n",
    "#Compute Hessian and plot again."
   ]
  }
 ],
 "metadata": {
  "anaconda-cloud": {},
  "kernelspec": {
   "display_name": "Python [Root]",
   "language": "python",
   "name": "Python [Root]"
  },
  "language_info": {
   "codemirror_mode": {
    "name": "ipython",
    "version": 3
   },
   "file_extension": ".py",
   "mimetype": "text/x-python",
   "name": "python",
   "nbconvert_exporter": "python",
   "pygments_lexer": "ipython3",
   "version": "3.5.2"
  }
 },
 "nbformat": 4,
 "nbformat_minor": 0
}
