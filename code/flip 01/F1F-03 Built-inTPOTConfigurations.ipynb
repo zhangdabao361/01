{
 "cells": [
  {
   "cell_type": "markdown",
   "metadata": {},
   "source": [
    "# FLIP(01):  Advanced Data Science\n",
    "**(Tools Module 04: TPOP)**\n",
    "\n",
    "---\n",
    "- Materials in this module include resources collected from various open-source online repositories.\n",
    "- You are free to use, but NOT allowed to change or distribute this package.\n",
    "\n",
    "Prepared by and for \n",
    "**Student Members** |\n",
    "2006-2018 [TULIP Lab](http://www.tulip.org.au)\n",
    "\n",
    "---\n",
    "\n",
    "\n",
    "# Session 03 - Built-in TPOT configurations"
   ]
  },
  {
   "cell_type": "markdown",
   "metadata": {},
   "source": [
    "TPOT comes with a handful of default operators and parameter configurations that we believe work well for optimizing machine learning pipelines. Below is a list of the current built-in configurations that come with TPOT."
   ]
  },
  {
   "cell_type": "markdown",
   "metadata": {},
   "source": [
    "<table>\n",
    "   <tr>\n",
    "      <td>Configuration Name</td>\n",
    "      <td>Description</td>\n",
    "      <td>Operators</td>\n",
    "   </tr>\n",
    "   <tr>\n",
    "      <td>Default TPOT</td>\n",
    "      <td>TPOT will search over a broad range of preprocessors, feature constructors, feature selectors, models, and parameters to find a series of operators that minimize the error of the model predictions. Some of these operators are complex and may take a long time to run, especially on larger datasets.\n",
    "<br><br>\n",
    "Note: This is the default configuration for TPOT. To use this configuration, use the default value (None) for the config_dict parameter.</td>\n",
    "     <td><font color='blue'>Classification\n",
    "<br><br>\n",
    "Regression</td></font>\n",
    "   </tr>\n",
    "   <tr>\n",
    "      <td>TPOT light</td>\n",
    "      <td>TPOT will search over a restricted range of preprocessors, feature constructors, feature selectors, models, and parameters to find a series of operators that minimize the error of the model predictions. Only simpler and fast-running operators will be used in these pipelines, so TPOT light is useful for finding quick and simple pipelines for a classification or regression problem.\n",
    "<br><br>\n",
    "This configuration works for both the TPOTClassifier and TPOTRegressor.</td>\n",
    "      <td><font color='blue'>Classification\n",
    "<br><br>\n",
    "Regression</td></font>\n",
    "   </tr>\n",
    "   <tr>\n",
    "      <td>TPOT MDR</td>\n",
    "      <td>TPOT will search over a series of feature selectors and`Multifactor Dimensionality Reduction models to find a series of operators that maximize prediction accuracy. The TPOT MDR configuration is specialized for genome-wide association studies (GWAS), and is described in detail online here.\n",
    "<br><br>\n",
    "Note that TPOT MDR may be slow to run because the feature selection routines are computationally expensive, especially on large datasets.</td>\n",
    "      <td><font color='blue'>Classification\n",
    "<br><br>\n",
    "Regression</td></font>\n",
    "   </tr>\n",
    "   <tr>\n",
    "      <td>TPOT sparse</td>\n",
    "      <td>TPOT uses a configuration dictionary with a one-hot encoder and the operators normally included in TPOT that also support sparse matrices.\n",
    "<br><br>\n",
    "This configuration works for both the TPOTClassifier and TPOTRegressor.</td>\n",
    "      <td><font color='blue'>Classification\n",
    "<br><br>\n",
    "Regression</td></font>\n",
    "   </tr>\n",
    "</table>"
   ]
  },
  {
   "cell_type": "markdown",
   "metadata": {},
   "source": [
    "To use any of these configurations, simply pass the string name of the configuration to the `config_dict` parameter (or `-config` on the command line). For example, to use the \"TPOT light\" configuration:"
   ]
  },
  {
   "cell_type": "code",
   "execution_count": null,
   "metadata": {
    "collapsed": true
   },
   "outputs": [],
   "source": [
    "from tpot import TPOTClassifier\n",
    "from sklearn.datasets import load_digits\n",
    "from sklearn.model_selection import train_test_split\n",
    "\n",
    "digits = load_digits()\n",
    "X_train, X_test, y_train, y_test = train_test_split(digits.data, digits.target,\n",
    "                                                    train_size=0.75, test_size=0.25)\n",
    "\n",
    "tpot = TPOTClassifier(generations=5, population_size=20, verbosity=2,\n",
    "                      config_dict='TPOT light')\n",
    "tpot.fit(X_train, y_train)\n",
    "print(tpot.score(X_test, y_test))\n",
    "tpot.export('tpot_mnist_pipeline.py')"
   ]
  }
 ],
 "metadata": {
  "anaconda-cloud": {},
  "kernelspec": {
   "display_name": "Python [Root]",
   "language": "python",
   "name": "Python [Root]"
  },
  "language_info": {
   "codemirror_mode": {
    "name": "ipython",
    "version": 3
   },
   "file_extension": ".py",
   "mimetype": "text/x-python",
   "name": "python",
   "nbconvert_exporter": "python",
   "pygments_lexer": "ipython3",
   "version": "3.5.2"
  }
 },
 "nbformat": 4,
 "nbformat_minor": 0
}
