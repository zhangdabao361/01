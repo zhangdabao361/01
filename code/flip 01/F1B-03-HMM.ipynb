{
 "cells": [
  {
   "cell_type": "markdown",
   "metadata": {},
   "source": [
    "# Modern Data Science \n",
    "**(Module 03: Pattern Classification)**\n",
    "\n",
    "---\n",
    "- Materials in this module include resources collected from various open-source online repositories.\n",
    "- You are free to use, change and distribute this package.\n",
    "\n",
    "Prepared by and for \n",
    "**Student Members** |\n",
    "2006-2018 [TULIP Lab](http://www.tulip.org.au), Australia\n",
    "\n",
    "---\n",
    "\n",
    "\n",
    "# Session D - Hidden Markov Model: HMM\n",
    "\n",
    "In this sesion, we will study Hidden Markov Model.The Hidden Markov Model based on the Markov Model and solve the limitations of Markov Model. We will show the formalism and example of HMM."
   ]
  },
  {
   "cell_type": "code",
   "execution_count": 1,
   "metadata": {
    "collapsed": false
   },
   "outputs": [],
   "source": [
    "# import related package\n",
    "from IPython.core.display import HTML\n",
    "import requests\n",
    "import numpy as np\n",
    "import pandas as pd\n",
    "p=print"
   ]
  },
  {
   "cell_type": "markdown",
   "metadata": {},
   "source": [
    "## Is Your Girlfriend Cheating on You?"
   ]
  },
  {
   "cell_type": "markdown",
   "metadata": {},
   "source": [
    "Your girlfriend Mary has been exhibiting odd sequences of behavior. You suspect cheating. You don't want to falsely accuse her but something is off. Is there a way to reason about the situation so you can decide if you should confront her using the limited information you have?\n",
    "\n",
    "You recall Hidden Markov Models are a tool for these situations. Mary's activities represent a sequence of **`hidden states`**, while her observed behavior represents a sequence of **`emissions`**. Because you don't talk much and you believe she may lie to you, all you can do is try to guess her true state via observations taken over time. \n",
    "\n",
    "First you define the range of possible states **`M`**. You know Mary has a strong work ethic, both professionally and actively. So you conclude that when not with you, she could be at __`Work, Gym,`__ or __`Cheating`__. \n",
    "\n",
    "These states are hidden to you and cannot be observed directly.\n",
    "\n",
    "You do not know the initial probabilities **`pi`**, of which state she could be in. You decide that Work or the Gym is equiprobable, and that there is a small percent she is cheating.\n",
    "\n",
    ">**pi = [0.4, 0.4, 0.2]**"
   ]
  },
  {
   "cell_type": "code",
   "execution_count": 2,
   "metadata": {
    "collapsed": false
   },
   "outputs": [
    {
     "data": {
      "text/plain": [
       "work        0.4\n",
       "gym         0.4\n",
       "cheating    0.2\n",
       "Name: states, dtype: float64"
      ]
     },
     "execution_count": 2,
     "metadata": {},
     "output_type": "execute_result"
    }
   ],
   "source": [
    "# define states\n",
    "# work --> gym --> cheating\n",
    "\n",
    "# initial probability of being in state k, for M states\n",
    "states = ['work', 'gym', 'cheating']\n",
    "pi = np.array([0.4, 0.4, 0.2])\n",
    "\n",
    "# pi \n",
    "(pd.Series(pi, index=states, name='states'))"
   ]
  },
  {
   "cell_type": "markdown",
   "metadata": {},
   "source": [
    "Next you must guess about the transition probabilities for the matrix of possible states. For example, if Mary was working, what is the probability she would continue working, then transition to the gym, then transition to cheating? \n",
    "\n",
    "These are difficult questions to ask, no doubt, but you push forward.\n",
    "\n",
    "You start with the state transitions for work. You reason that the probability is high, that Mary would keep working given she is already working. It is also highly probable she could transition from work to the gym. You assign a low probability that she could transition from work to cheating.\n",
    "\n",
    ">**work = [0.6, 0.3, 0.1]**\n",
    "\n",
    "The gym is less certain. You reason she could transition from the gym state to any other state with equal probability.\n",
    "\n",
    ">**gym = [0.33, 0.33, 0.33]**\n",
    "\n",
    "Finally, you consider if she were cheating, that you have no idea what state she would transition to afterwards. \n",
    "\n",
    ">**cheating = [0.33, 0.33, 0.33]**"
   ]
  },
  {
   "cell_type": "code",
   "execution_count": 3,
   "metadata": {
    "collapsed": false
   },
   "outputs": [
    {
     "name": "stdout",
     "output_type": "stream",
     "text": [
      "          work   gym cheating\n",
      "work       0.6   0.3      0.1\n",
      "gym       0.33  0.33     0.33\n",
      "cheating  0.33  0.33     0.33\n",
      "\n",
      " [[0.6 0.3 0.1]\n",
      " [0.33 0.33 0.33]\n",
      " [0.33 0.33 0.33]] (3, 3)\n"
     ]
    }
   ],
   "source": [
    "# a or alpha = transition probability matrix of changing states given a state\n",
    "# matrix is size (M x M) where M is number of states\n",
    "\n",
    "a_df = pd.DataFrame(columns=states, index=states)\n",
    "a_df.loc[states[0]] = [.6, .3, .1]\n",
    "a_df.loc[states[1]] = [.33, .33, .33]\n",
    "a_df.loc[states[2]] = [.33, .33, .33]\n",
    "p(a_df)\n",
    "\n",
    "a = a_df.values\n",
    "p('\\n',a, a.shape)"
   ]
  },
  {
   "cell_type": "markdown",
   "metadata": {},
   "source": [
    "The final requirement is to reason about the observation aka _-`emission`__ probabilities. These are the probabilities that you would observe a particular behavior given she is in a particular state.\n",
    "\n",
    "Again you do not know Mary's true states because you don't talk, and you believe she may lie to you. Instead you focus on observations you believe are linked to her true state. \n",
    "\n",
    "These observations are __`makeup, athletic dress`__, and __`locked cell phone.`__ \n",
    "\n",
    "Given Mary is in the work state, it is highly probable that she would wear makeup to work, very low probability that she would dress athletically, and high probability she would lock her phone.\n",
    "\n",
    ">__work_emission = [0.4, 0.1, 0.5]__\n",
    "\n",
    "Mary is an avid gym goer. Given the gym state, she is unlikely to wear makeup, likely to dress athletically, and is very likely to lock her phone.\n",
    "\n",
    ">__gym_emission = [0.1, 0.3, 0.6]__\n",
    "\n",
    "If she is cheating, you figure you clearly don't know Mary like you thought, and you certainly do not know the probability that she will emit any of these behaviors if she is cheating therefore you set them equiprobable. \n",
    "\n",
    ">__cheating_emission = [0.33, 0.33, 0.33]__ "
   ]
  },
  {
   "cell_type": "code",
   "execution_count": 4,
   "metadata": {
    "collapsed": false
   },
   "outputs": [
    {
     "name": "stdout",
     "output_type": "stream",
     "text": [
      "         makeup dress phone\n",
      "work        0.4   0.1   0.5\n",
      "gym         0.1   0.3   0.6\n",
      "cheating   0.33  0.33  0.33\n",
      "\n",
      " [[0.4 0.1 0.5]\n",
      " [0.1 0.3 0.6]\n",
      " [0.33 0.33 0.33]] (3, 3)\n"
     ]
    }
   ],
   "source": [
    "# Emission probabilities\n",
    "# b or beta = observation probabilities given state\n",
    "# matrix is size (M x O) where M is number of states \n",
    "# and O is number of different possible observations\n",
    "\n",
    "emit = ['makeup', 'dress', 'phone']\n",
    "b_df = pd.DataFrame(columns=emit, index=states)\n",
    "b_df.loc[states[0]] = [0.4, 0.1, 0.5]\n",
    "b_df.loc[states[1]] = [0.1, 0.3, 0.6]\n",
    "b_df.loc[states[2]] = [0.33, 0.33, 0.33]\n",
    "p(b_df)\n",
    "\n",
    "b = b_df.values\n",
    "p('\\n', b, b.shape)"
   ]
  },
  {
   "cell_type": "markdown",
   "metadata": {},
   "source": [
    "Now we simply record the observation sequence"
   ]
  },
  {
   "cell_type": "code",
   "execution_count": 5,
   "metadata": {
    "collapsed": false
   },
   "outputs": [
    {
     "name": "stdout",
     "output_type": "stream",
     "text": [
      "   Obs_code Obs_seq\n",
      "0         0  makeup\n",
      "1         2   phone\n",
      "2         2   phone\n",
      "3         1   dress\n",
      "4         1   dress\n",
      "5         0  makeup\n",
      "6         2   phone\n",
      "7         1   dress\n",
      "8         2   phone\n",
      "9         1   dress\n",
      "10        1   dress\n",
      "11        2   phone\n",
      "12        0  makeup\n",
      "13        2   phone\n"
     ]
    }
   ],
   "source": [
    "# observation sequence of Mary's behaviors\n",
    "# observations are encoded numerically\n",
    "\n",
    "obs_map = {'makeup':0, 'dress':1, 'phone':2}\n",
    "obs = np.array([0,2,2,1,1,0,2,1,2,1,1,2,0,2])\n",
    "\n",
    "inv_obs_map = dict((v,k) for k, v in obs_map.items())\n",
    "obs_seq = [inv_obs_map[v] for v in list(obs)]\n",
    "\n",
    "p( pd.DataFrame(np.column_stack([obs, obs_seq]), \n",
    "                columns=['Obs_code', 'Obs_seq']) )"
   ]
  },
  {
   "cell_type": "markdown",
   "metadata": {},
   "source": [
    "### The HMM can answer the question, _given this sequence of observed behaviors and our model parameters, what is the most likely sequence of hidden states?_\n",
    "\n",
    "You can calculate this using the __`Viterbi`__ algorithm.\n",
    "\n",
    "High level, the Viterbi algorithm increments over each time step, finding the __`maximum`__ probability of any path that gets to state __`i`__ at time __`t`__, that ___also___ has the correct observations for the sequence up to time __`t`__.\n",
    "\n",
    "The algorithm also keeps track of the state with the highest probability at each stage. At the end of the sequence, the algorithm will iterate backwards selecting the state that \"won\" each time step, and thus creating the most likely path, or likely sequence of hidden states that led to the sequence of observations. "
   ]
  },
  {
   "cell_type": "code",
   "execution_count": 6,
   "metadata": {
    "collapsed": false,
    "scrolled": true
   },
   "outputs": [
    {
     "name": "stdout",
     "output_type": "stream",
     "text": [
      "\n",
      "Start Walk Forward\n",
      "\n",
      "s=0 and t=1: phi[0, 1] = 0.0\n",
      "s=1 and t=1: phi[1, 1] = 0.0\n",
      "s=2 and t=1: phi[2, 1] = 2.0\n",
      "s=0 and t=2: phi[0, 2] = 0.0\n",
      "s=1 and t=2: phi[1, 2] = 0.0\n",
      "s=2 and t=2: phi[2, 2] = 1.0\n",
      "s=0 and t=3: phi[0, 3] = 0.0\n",
      "s=1 and t=3: phi[1, 3] = 0.0\n",
      "s=2 and t=3: phi[2, 3] = 1.0\n",
      "s=0 and t=4: phi[0, 4] = 0.0\n",
      "s=1 and t=4: phi[1, 4] = 1.0\n",
      "s=2 and t=4: phi[2, 4] = 1.0\n",
      "s=0 and t=5: phi[0, 5] = 2.0\n",
      "s=1 and t=5: phi[1, 5] = 2.0\n",
      "s=2 and t=5: phi[2, 5] = 2.0\n",
      "s=0 and t=6: phi[0, 6] = 0.0\n",
      "s=1 and t=6: phi[1, 6] = 0.0\n",
      "s=2 and t=6: phi[2, 6] = 2.0\n",
      "s=0 and t=7: phi[0, 7] = 0.0\n",
      "s=1 and t=7: phi[1, 7] = 0.0\n",
      "s=2 and t=7: phi[2, 7] = 1.0\n",
      "s=0 and t=8: phi[0, 8] = 0.0\n",
      "s=1 and t=8: phi[1, 8] = 1.0\n",
      "s=2 and t=8: phi[2, 8] = 1.0\n",
      "s=0 and t=9: phi[0, 9] = 0.0\n",
      "s=1 and t=9: phi[1, 9] = 1.0\n",
      "s=2 and t=9: phi[2, 9] = 1.0\n",
      "s=0 and t=10: phi[0, 10] = 0.0\n",
      "s=1 and t=10: phi[1, 10] = 2.0\n",
      "s=2 and t=10: phi[2, 10] = 2.0\n",
      "s=0 and t=11: phi[0, 11] = 2.0\n",
      "s=1 and t=11: phi[1, 11] = 2.0\n",
      "s=2 and t=11: phi[2, 11] = 2.0\n",
      "s=0 and t=12: phi[0, 12] = 0.0\n",
      "s=1 and t=12: phi[1, 12] = 1.0\n",
      "s=2 and t=12: phi[2, 12] = 1.0\n",
      "s=0 and t=13: phi[0, 13] = 0.0\n",
      "s=1 and t=13: phi[1, 13] = 0.0\n",
      "s=2 and t=13: phi[2, 13] = 2.0\n",
      "--------------------------------------------------\n",
      "Start Backtrace\n",
      "\n",
      "path[12] = 0.0\n",
      "path[11] = 0.0\n",
      "path[10] = 2.0\n",
      "path[9] = 2.0\n",
      "path[8] = 1.0\n",
      "path[7] = 1.0\n",
      "path[6] = 0.0\n",
      "path[5] = 0.0\n",
      "path[4] = 2.0\n",
      "path[3] = 1.0\n",
      "path[2] = 0.0\n",
      "path[1] = 0.0\n",
      "path[0] = 0.0\n",
      "\n",
      "single best state path: \n",
      " [ 0.  0.  0.  1.  2.  0.  0.  1.  1.  2.  2.  0.  0.  0.]\n",
      "delta:\n",
      " [[  1.60000000e-01   4.80000000e-02   1.44000000e-02   8.64000000e-04\n",
      "    5.18400000e-05   1.86297408e-05   5.58892224e-06   3.35335334e-07\n",
      "    1.00600600e-07   6.03603602e-09   3.62162161e-10   1.94883679e-10\n",
      "    4.67720831e-11   1.40316249e-11]\n",
      " [  4.00000000e-02   2.88000000e-02   8.64000000e-03   1.29600000e-03\n",
      "    1.28304000e-04   4.65743520e-06   3.35335334e-06   5.03003002e-07\n",
      "    9.95945943e-08   9.85986484e-09   1.07373928e-09   2.33860415e-10\n",
      "    7.71739371e-12   8.41897495e-12]\n",
      " [  6.60000000e-02   7.18740000e-03   3.13632000e-03   9.40896000e-04\n",
      "    1.41134400e-04   1.53695362e-05   1.67374249e-06   3.65180179e-07\n",
      "    5.47770269e-08   1.08458513e-08   1.18111321e-09   1.28623228e-10\n",
      "    2.54673992e-11   2.77339978e-12]]\n",
      "phi:\n",
      " [[ 0.  0.  0.  0.  0.  2.  0.  0.  0.  0.  0.  2.  0.  0.]\n",
      " [ 0.  0.  0.  0.  1.  2.  0.  0.  1.  1.  2.  2.  1.  0.]\n",
      " [ 0.  2.  1.  1.  1.  2.  2.  1.  1.  1.  2.  2.  1.  2.]]\n"
     ]
    },
    {
     "name": "stderr",
     "output_type": "stream",
     "text": [
      "D:\\Anaconda3\\lib\\site-packages\\ipykernel\\__main__.py:34: VisibleDeprecationWarning: using a non-integer number instead of an integer will result in an error in the future\n"
     ]
    }
   ],
   "source": [
    "# define Viterbi algorithm for shortest path\n",
    "\n",
    "\n",
    "def viterbi(pi, a, b, obs):\n",
    "    \n",
    "    nStates = np.shape(b)[0]\n",
    "    T = np.shape(obs)[0]\n",
    "    \n",
    "    # init blank path\n",
    "    path = np.zeros(T)\n",
    "    # delta --> highest probability of any path that reaches state i\n",
    "    delta = np.zeros((nStates, T))\n",
    "    # phi --> argmax by time step for each state\n",
    "    phi = np.zeros((nStates, T))\n",
    "    \n",
    "    # init delta and phi \n",
    "    delta[:, 0] = pi * b[:, obs[0]]\n",
    "    phi[:, 0] = 0\n",
    "\n",
    "    p('\\nStart Walk Forward\\n')    \n",
    "    # the forward algorithm extension\n",
    "    for t in range(1, T):\n",
    "        for s in range(nStates):\n",
    "            delta[s, t] = np.max(delta[:, t-1] * a[:, s]) * b[s, obs[t]] \n",
    "            phi[s, t] = np.argmax(delta[:, t-1] * a[:, s])\n",
    "            p('s={s} and t={t}: phi[{s}, {t}] = {phi}'.format(s=s, t=t, phi=phi[s, t]))\n",
    "    \n",
    "    # find optimal path\n",
    "    p('-'*50)\n",
    "    p('Start Backtrace\\n')\n",
    "    path[T-1] = np.argmax(delta[:, T-1])\n",
    "    #p('init path\\n    t={} path[{}-1]={}\\n'.format(T-1, T, path[T-1]))\n",
    "    for t in range(T-2, -1, -1):\n",
    "        path[t] = phi[path[t+1], [t+1]]\n",
    "        #p(' '*4 + 't={t}, path[{t}+1]={path}, [{t}+1]={i}'.format(t=t, path=path[t+1], i=[t+1]))\n",
    "        p('path[{}] = {}'.format(t, path[t]))\n",
    "        \n",
    "    return path, delta, phi\n",
    "\n",
    "path, delta, phi = viterbi(pi, a, b, obs)\n",
    "p('\\nsingle best state path: \\n', path)\n",
    "p('delta:\\n', delta)\n",
    "p('phi:\\n', phi)"
   ]
  },
  {
   "cell_type": "code",
   "execution_count": 7,
   "metadata": {
    "collapsed": false
   },
   "outputs": [
    {
     "data": {
      "text/html": [
       "<div>\n",
       "<style scoped>\n",
       "    .dataframe tbody tr th:only-of-type {\n",
       "        vertical-align: middle;\n",
       "    }\n",
       "\n",
       "    .dataframe tbody tr th {\n",
       "        vertical-align: top;\n",
       "    }\n",
       "\n",
       "    .dataframe thead th {\n",
       "        text-align: right;\n",
       "    }\n",
       "</style>\n",
       "<table border=\"1\" class=\"dataframe\">\n",
       "  <thead>\n",
       "    <tr style=\"text-align: right;\">\n",
       "      <th></th>\n",
       "      <th>work</th>\n",
       "      <th>gym</th>\n",
       "      <th>cheating</th>\n",
       "    </tr>\n",
       "  </thead>\n",
       "  <tbody>\n",
       "    <tr>\n",
       "      <th>0</th>\n",
       "      <td>1.600000e-01</td>\n",
       "      <td>4.000000e-02</td>\n",
       "      <td>6.600000e-02</td>\n",
       "    </tr>\n",
       "    <tr>\n",
       "      <th>1</th>\n",
       "      <td>4.800000e-02</td>\n",
       "      <td>2.880000e-02</td>\n",
       "      <td>7.187400e-03</td>\n",
       "    </tr>\n",
       "    <tr>\n",
       "      <th>2</th>\n",
       "      <td>1.440000e-02</td>\n",
       "      <td>8.640000e-03</td>\n",
       "      <td>3.136320e-03</td>\n",
       "    </tr>\n",
       "    <tr>\n",
       "      <th>3</th>\n",
       "      <td>8.640000e-04</td>\n",
       "      <td>1.296000e-03</td>\n",
       "      <td>9.408960e-04</td>\n",
       "    </tr>\n",
       "    <tr>\n",
       "      <th>4</th>\n",
       "      <td>5.184000e-05</td>\n",
       "      <td>1.283040e-04</td>\n",
       "      <td>1.411344e-04</td>\n",
       "    </tr>\n",
       "    <tr>\n",
       "      <th>5</th>\n",
       "      <td>1.862974e-05</td>\n",
       "      <td>4.657435e-06</td>\n",
       "      <td>1.536954e-05</td>\n",
       "    </tr>\n",
       "    <tr>\n",
       "      <th>6</th>\n",
       "      <td>5.588922e-06</td>\n",
       "      <td>3.353353e-06</td>\n",
       "      <td>1.673742e-06</td>\n",
       "    </tr>\n",
       "    <tr>\n",
       "      <th>7</th>\n",
       "      <td>3.353353e-07</td>\n",
       "      <td>5.030030e-07</td>\n",
       "      <td>3.651802e-07</td>\n",
       "    </tr>\n",
       "    <tr>\n",
       "      <th>8</th>\n",
       "      <td>1.006006e-07</td>\n",
       "      <td>9.959459e-08</td>\n",
       "      <td>5.477703e-08</td>\n",
       "    </tr>\n",
       "    <tr>\n",
       "      <th>9</th>\n",
       "      <td>6.036036e-09</td>\n",
       "      <td>9.859865e-09</td>\n",
       "      <td>1.084585e-08</td>\n",
       "    </tr>\n",
       "    <tr>\n",
       "      <th>10</th>\n",
       "      <td>3.621622e-10</td>\n",
       "      <td>1.073739e-09</td>\n",
       "      <td>1.181113e-09</td>\n",
       "    </tr>\n",
       "    <tr>\n",
       "      <th>11</th>\n",
       "      <td>1.948837e-10</td>\n",
       "      <td>2.338604e-10</td>\n",
       "      <td>1.286232e-10</td>\n",
       "    </tr>\n",
       "    <tr>\n",
       "      <th>12</th>\n",
       "      <td>4.677208e-11</td>\n",
       "      <td>7.717394e-12</td>\n",
       "      <td>2.546740e-11</td>\n",
       "    </tr>\n",
       "    <tr>\n",
       "      <th>13</th>\n",
       "      <td>1.403162e-11</td>\n",
       "      <td>8.418975e-12</td>\n",
       "      <td>2.773400e-12</td>\n",
       "    </tr>\n",
       "  </tbody>\n",
       "</table>\n",
       "</div>"
      ],
      "text/plain": [
       "            work           gym      cheating\n",
       "0   1.600000e-01  4.000000e-02  6.600000e-02\n",
       "1   4.800000e-02  2.880000e-02  7.187400e-03\n",
       "2   1.440000e-02  8.640000e-03  3.136320e-03\n",
       "3   8.640000e-04  1.296000e-03  9.408960e-04\n",
       "4   5.184000e-05  1.283040e-04  1.411344e-04\n",
       "5   1.862974e-05  4.657435e-06  1.536954e-05\n",
       "6   5.588922e-06  3.353353e-06  1.673742e-06\n",
       "7   3.353353e-07  5.030030e-07  3.651802e-07\n",
       "8   1.006006e-07  9.959459e-08  5.477703e-08\n",
       "9   6.036036e-09  9.859865e-09  1.084585e-08\n",
       "10  3.621622e-10  1.073739e-09  1.181113e-09\n",
       "11  1.948837e-10  2.338604e-10  1.286232e-10\n",
       "12  4.677208e-11  7.717394e-12  2.546740e-11\n",
       "13  1.403162e-11  8.418975e-12  2.773400e-12"
      ]
     },
     "execution_count": 7,
     "metadata": {},
     "output_type": "execute_result"
    }
   ],
   "source": [
    "(pd.DataFrame(delta, index=states).T)"
   ]
  },
  {
   "cell_type": "code",
   "execution_count": 8,
   "metadata": {
    "collapsed": false
   },
   "outputs": [
    {
     "data": {
      "text/html": [
       "<div>\n",
       "<style scoped>\n",
       "    .dataframe tbody tr th:only-of-type {\n",
       "        vertical-align: middle;\n",
       "    }\n",
       "\n",
       "    .dataframe tbody tr th {\n",
       "        vertical-align: top;\n",
       "    }\n",
       "\n",
       "    .dataframe thead th {\n",
       "        text-align: right;\n",
       "    }\n",
       "</style>\n",
       "<table border=\"1\" class=\"dataframe\">\n",
       "  <thead>\n",
       "    <tr style=\"text-align: right;\">\n",
       "      <th></th>\n",
       "      <th>Observation</th>\n",
       "      <th>Best_Path</th>\n",
       "    </tr>\n",
       "  </thead>\n",
       "  <tbody>\n",
       "    <tr>\n",
       "      <th>0</th>\n",
       "      <td>makeup</td>\n",
       "      <td>work</td>\n",
       "    </tr>\n",
       "    <tr>\n",
       "      <th>1</th>\n",
       "      <td>phone</td>\n",
       "      <td>work</td>\n",
       "    </tr>\n",
       "    <tr>\n",
       "      <th>2</th>\n",
       "      <td>phone</td>\n",
       "      <td>work</td>\n",
       "    </tr>\n",
       "    <tr>\n",
       "      <th>3</th>\n",
       "      <td>dress</td>\n",
       "      <td>gym</td>\n",
       "    </tr>\n",
       "    <tr>\n",
       "      <th>4</th>\n",
       "      <td>dress</td>\n",
       "      <td>cheating</td>\n",
       "    </tr>\n",
       "    <tr>\n",
       "      <th>5</th>\n",
       "      <td>makeup</td>\n",
       "      <td>work</td>\n",
       "    </tr>\n",
       "    <tr>\n",
       "      <th>6</th>\n",
       "      <td>phone</td>\n",
       "      <td>work</td>\n",
       "    </tr>\n",
       "    <tr>\n",
       "      <th>7</th>\n",
       "      <td>dress</td>\n",
       "      <td>gym</td>\n",
       "    </tr>\n",
       "    <tr>\n",
       "      <th>8</th>\n",
       "      <td>phone</td>\n",
       "      <td>gym</td>\n",
       "    </tr>\n",
       "    <tr>\n",
       "      <th>9</th>\n",
       "      <td>dress</td>\n",
       "      <td>cheating</td>\n",
       "    </tr>\n",
       "    <tr>\n",
       "      <th>10</th>\n",
       "      <td>dress</td>\n",
       "      <td>cheating</td>\n",
       "    </tr>\n",
       "    <tr>\n",
       "      <th>11</th>\n",
       "      <td>phone</td>\n",
       "      <td>work</td>\n",
       "    </tr>\n",
       "    <tr>\n",
       "      <th>12</th>\n",
       "      <td>makeup</td>\n",
       "      <td>work</td>\n",
       "    </tr>\n",
       "    <tr>\n",
       "      <th>13</th>\n",
       "      <td>phone</td>\n",
       "      <td>work</td>\n",
       "    </tr>\n",
       "  </tbody>\n",
       "</table>\n",
       "</div>"
      ],
      "text/plain": [
       "   Observation Best_Path\n",
       "0       makeup      work\n",
       "1        phone      work\n",
       "2        phone      work\n",
       "3        dress       gym\n",
       "4        dress  cheating\n",
       "5       makeup      work\n",
       "6        phone      work\n",
       "7        dress       gym\n",
       "8        phone       gym\n",
       "9        dress  cheating\n",
       "10       dress  cheating\n",
       "11       phone      work\n",
       "12      makeup      work\n",
       "13       phone      work"
      ]
     },
     "execution_count": 8,
     "metadata": {},
     "output_type": "execute_result"
    }
   ],
   "source": [
    "state_map = {0:'work', 1:'gym', 2:'cheating'}\n",
    "state_path = [state_map[v] for v in path]\n",
    "\n",
    "(pd.DataFrame()\n",
    " .assign(Observation=obs_seq)\n",
    " .assign(Best_Path=state_path))"
   ]
  },
  {
   "cell_type": "markdown",
   "metadata": {
    "collapsed": true
   },
   "source": [
    "### Conclusion\n",
    "\n",
    "Using the Hidden Markov Model framework and some reasonable assumptions, we were able to make an educated guess about Mary's true sequence of states without direct observation of those states. Instead we used the directly observable emmissions as a link to map the observable to the hidden. "
   ]
  }
 ],
 "metadata": {
  "anaconda-cloud": {},
  "kernelspec": {
   "display_name": "Python [Root]",
   "language": "python",
   "name": "Python [Root]"
  },
  "language_info": {
   "codemirror_mode": {
    "name": "ipython",
    "version": 3
   },
   "file_extension": ".py",
   "mimetype": "text/x-python",
   "name": "python",
   "nbconvert_exporter": "python",
   "pygments_lexer": "ipython3",
   "version": "3.5.2"
  }
 },
 "nbformat": 4,
 "nbformat_minor": 1
}
