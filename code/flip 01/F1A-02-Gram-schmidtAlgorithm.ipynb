{
 "cells": [
  {
   "cell_type": "markdown",
   "metadata": {},
   "source": [
    "# FLIP(01):  Advanced Data Science\n",
    "**(Module 00: Matrix Analysis)**\n",
    "\n",
    "---\n",
    "- Materials in this module include resources collected from various open-source online repositories.\n",
    "- You are free to use, but NOT allowed to change or distribute this package.\n",
    "\n",
    "Prepared by and for \n",
    "**Student Members** |\n",
    "2006-2018 [TULIP Lab](http://www.tulip.org.au)\n",
    "\n",
    "---\n",
    "\n",
    "\n",
    "# Session 02 - Gram-schmidt Algorithm"
   ]
  },
  {
   "cell_type": "markdown",
   "metadata": {},
   "source": [
    "The goal of the Gram-Schmidt algorithm is to normalize the matrix of column vectors that are linearly independent (vectors are vertical and have a length of 1)."
   ]
  },
  {
   "cell_type": "code",
   "execution_count": null,
   "metadata": {
    "collapsed": true
   },
   "outputs": [],
   "source": [
    "import numpy\n",
    "import math\n",
    "    \n",
    "def mgs(M):\n",
    "    if ( type( M ) is numpy.ndarray ):\n",
    "        M = numpy.matrix(M)\n",
    "    # Creates a new empty matrix same size as M\n",
    "    Q = numpy.matrix( numpy.zeros( shape=M.shape ) )\n",
    "    R = numpy.matrix( numpy.zeros( shape=M.shape ) )\n",
    "    # Collect necessary v_i\n",
    "    # TODO: This may be a wasteful assignment, and is O(n). \n",
    "    for index in range(0, M.shape[1] ):\n",
    "        Q[:,index] = M[:,index]\n",
    "    # Begin the loop defined by column size\n",
    "    for index in range(0, M.shape[1] ):\n",
    "        # Normalize r_(i,i)\n",
    "        R[index, index] = numpy.linalg.norm( Q[:,index] )\n",
    "        Q[:, index] = Q[:, index]/R[index, index]\n",
    "        \n",
    "        for  jndex in range( index+1, M.shape[1] ):\n",
    "            # Compute the norm of v for R\n",
    "            R[index, jndex] = Q[:, index].H*R[:, jndex]\n",
    "            R[:, jndex] = R[:, jndex] - R[index, jndex]*Q[:, index]\n",
    "            \n",
    "    return (Q,R)"
   ]
  },
  {
   "cell_type": "markdown",
   "metadata": {},
   "source": [
    "Write a Python code to test the Gram-schmidt algorithm"
   ]
  },
  {
   "cell_type": "code",
   "execution_count": null,
   "metadata": {
    "collapsed": false
   },
   "outputs": [],
   "source": [
    "\n",
    "import numpy as np\n",
    "\n",
    "M = np.random.rand(3,3)\n",
    "print(\"==== M =====\")\n",
    "print(M)\n",
    "print(\"\")\n",
    "(Q,R) = mgs(M)\n",
    "print(\"===== Q =====\")\n",
    "print(Q)\n",
    "print(\"\")\n",
    "print(\"===== R =====\")\n",
    "print (R)\n",
    "print(\"\")\n",
    "print(\"===== QR = M =====\")\n",
    "print(Q * R == M)\n",
    "print(\"\")\n",
    "print(\"===== M - QR =====\")\n",
    "print(M - Q*R)\n",
    "print(\"\")\n",
    "print(\"===== Q.H*Q =====\")\n",
    "print(Q.H*Q)"
   ]
  }
 ],
 "metadata": {
  "anaconda-cloud": {},
  "kernelspec": {
   "display_name": "Python [Root]",
   "language": "python",
   "name": "Python [Root]"
  },
  "language_info": {
   "codemirror_mode": {
    "name": "ipython",
    "version": 3
   },
   "file_extension": ".py",
   "mimetype": "text/x-python",
   "name": "python",
   "nbconvert_exporter": "python",
   "pygments_lexer": "ipython3",
   "version": "3.5.2"
  }
 },
 "nbformat": 4,
 "nbformat_minor": 0
}
