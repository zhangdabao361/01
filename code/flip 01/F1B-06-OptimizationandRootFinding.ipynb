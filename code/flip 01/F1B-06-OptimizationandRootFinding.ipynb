{
 "cells": [
  {
   "cell_type": "markdown",
   "metadata": {},
   "source": [
    "# Modern Data Science \n",
    "**(Module 03: Pattern Classification)**\n",
    "\n",
    "---\n",
    "- Materials in this module include resources collected from various open-source online repositories.\n",
    "- You are free to use, change and distribute this package.\n",
    "\n",
    "Prepared by and for \n",
    "**Student Members** |\n",
    "2006-2018 [TULIP Lab](http://www.tulip.org.au), Australia\n",
    "\n",
    "---\n",
    "\n",
    "\n",
    "# Session G - Optimization and Root Finding"
   ]
  },
  {
   "cell_type": "code",
   "execution_count": null,
   "metadata": {
    "collapsed": true
   },
   "outputs": [],
   "source": [
    "%matplotlib inline\n",
    "import matplotlib.pyplot as plt\n",
    "import numpy as np\n",
    "import scipy as scipy\n",
    "from scipy.interpolate import interp1d"
   ]
  },
  {
   "cell_type": "markdown",
   "metadata": {},
   "source": [
    "Many problems in statistics can be reduced to optimization problems, which in turn are reduced to root finding (because we optimize functions by taking derivatives and finding the zeroes of the derivative functions). Before we dive into the techniques, lets look at some examples of where optimization comes up in statistics."
   ]
  },
  {
   "cell_type": "code",
   "execution_count": null,
   "metadata": {
    "collapsed": false
   },
   "outputs": [],
   "source": [
    "def f(x):\n",
    "    return x**3 + 4*x**2 -3\n",
    "\n",
    "x = np.linspace(-3.1, 0, 100)\n",
    "plt.plot(x, x**3 + 4*x**2 -3)\n",
    "\n",
    "a = -3.0\n",
    "b = -0.5\n",
    "c = 0.5*(a+b)\n",
    "\n",
    "plt.text(a,-1,\"a\")\n",
    "plt.text(b,-1,\"b\")\n",
    "plt.text(c,-1,\"c\")\n",
    "\n",
    "plt.scatter([a,b,c], [f(a), f(b),f(c)], s=50, facecolors='none')\n",
    "plt.scatter([a,b,c], [0,0,0], s=50, c='red')\n",
    "\n",
    "xaxis = plt.axhline(0);"
   ]
  },
  {
   "cell_type": "code",
   "execution_count": null,
   "metadata": {
    "collapsed": false
   },
   "outputs": [],
   "source": [
    "x = np.linspace(-3.1, 0, 100)\n",
    "plt.plot(x, x**3 + 4*x**2 -3)\n",
    "\n",
    "d = 0.5*(b+c)\n",
    "\n",
    "plt.text(d,-1,\"d\")\n",
    "plt.text(b,-1,\"b\")\n",
    "plt.text(c,-1,\"c\")\n",
    "\n",
    "plt.scatter([d,b,c], [f(d), f(b),f(c)], s=50, facecolors='none')\n",
    "plt.scatter([d,b,c], [0,0,0], s=50, c='red')\n",
    "\n",
    "xaxis = plt.axhline(0);"
   ]
  },
  {
   "cell_type": "markdown",
   "metadata": {},
   "source": [
    "We can terminate the process whenever the function evaluated at the new midpoint is ‘close enough’ to zero. This method is an example of what are known as ‘bracketed methods’. This means the root is ‘bracketed’ by the end-points (it is somewhere in between). Another class of methods are ‘open methods’ - the root need not be somewhere in between the end-points (but it usually needs to be close!)"
   ]
  },
  {
   "cell_type": "markdown",
   "metadata": {},
   "source": [
    "## Secant Method"
   ]
  },
  {
   "cell_type": "markdown",
   "metadata": {},
   "source": [
    "The secant method also begins with two initial points, but without the constraint that the function values are of opposite signs. We use the secant line to extrapolate the next candidate point."
   ]
  },
  {
   "cell_type": "code",
   "execution_count": null,
   "metadata": {
    "collapsed": false
   },
   "outputs": [],
   "source": [
    "def f(x):\n",
    "    return (x**3-2*x+7)/(x**4+2)\n",
    "\n",
    "x = np.arange(-3,5, 0.1);\n",
    "y = f(x)\n",
    "\n",
    "p1=plt.plot(x, y)\n",
    "plt.xlim(-3, 4)\n",
    "plt.ylim(-.5, 4)\n",
    "plt.xlabel('x')\n",
    "plt.axhline(0)\n",
    "t = np.arange(-10, 5., 0.1)\n",
    "\n",
    "x0=-1.2\n",
    "x1=-0.5\n",
    "xvals = []\n",
    "xvals.append(x0)\n",
    "xvals.append(x1)\n",
    "notconverge = 1\n",
    "count = 0\n",
    "cols=['r--','b--','g--','y--']\n",
    "while (notconverge==1 and count <  3):\n",
    "    slope=(f(xvals[count+1])-f(xvals[count]))/(xvals[count+1]-xvals[count])\n",
    "    intercept=-slope*xvals[count+1]+f(xvals[count+1])\n",
    "    plt.plot(t, slope*t + intercept, cols[count])\n",
    "    nextval = -intercept/slope\n",
    "    if abs(f(nextval)) < 0.001:\n",
    "        notconverge=0\n",
    "    else:\n",
    "        xvals.append(nextval)\n",
    "    count = count+1\n",
    "\n",
    "plt.show()"
   ]
  },
  {
   "cell_type": "markdown",
   "metadata": {},
   "source": [
    "## Newton-Rhapson Method"
   ]
  },
  {
   "cell_type": "markdown",
   "metadata": {
    "collapsed": true
   },
   "source": [
    "We want to find the value $θ$ so that some (differentiable) function $g(θ)=0$. Idea: start with a guess, $θ_0$. Let $θ^~ $ denote the value of $θ$ for which $g(θ)=0$ and define $h=θ^~−θ_0$. Then:\n",
    "$$ g(θ^~) = 0$$\n",
    "$$ g(θ^~) = g(θ_0+h) $$"
   ]
  },
  {
   "cell_type": "markdown",
   "metadata": {},
   "source": [
    "## Example:\n",
    "let:\n",
    "$$ g(x) = x^3-2x+7{\\}\\x^4+2 $$\n",
    "The graph of this function is:"
   ]
  },
  {
   "cell_type": "code",
   "execution_count": null,
   "metadata": {
    "collapsed": false
   },
   "outputs": [],
   "source": [
    "x = np.arange(-5,5, 0.1);\n",
    "y = (x**3-2*x+7)/(x**4+2)\n",
    "\n",
    "p1=plt.plot(x, y)\n",
    "plt.xlim(-4, 4)\n",
    "plt.ylim(-.5, 4)\n",
    "plt.xlabel('x')\n",
    "plt.axhline(0)\n",
    "plt.title('Example Function')\n",
    "plt.show()"
   ]
  },
  {
   "cell_type": "code",
   "execution_count": null,
   "metadata": {
    "collapsed": false
   },
   "outputs": [],
   "source": [
    "x = np.arange(-5,5, 0.1);\n",
    "y = (x**3-2*x+7)/(x**4+2)\n",
    "\n",
    "p1=plt.plot(x, y)\n",
    "plt.xlim(-4, 4)\n",
    "plt.ylim(-.5, 4)\n",
    "plt.xlabel('x')\n",
    "plt.axhline(0)\n",
    "plt.title('Good Guess')\n",
    "t = np.arange(-5, 5., 0.1)\n",
    "\n",
    "x0=-1.5\n",
    "xvals = []\n",
    "xvals.append(x0)\n",
    "notconverge = 1\n",
    "count = 0\n",
    "cols=['r--','b--','g--','y--','c--','m--','k--','w--']\n",
    "while (notconverge==1 and count <  6):\n",
    "    funval=(xvals[count]**3-2*xvals[count]+7)/(xvals[count]**4+2)\n",
    "    slope=-((4*xvals[count]**3 *(7 - 2 *xvals[count] + xvals[count]**3))/(2 + xvals[count]**4)**2) + (-2 + 3 *xvals[count]**2)/(2 + xvals[count]**4)\n",
    "\n",
    "    intercept=-slope*xvals[count]+(xvals[count]**3-2*xvals[count]+7)/(xvals[count]**4+2)\n",
    "\n",
    "    plt.plot(t, slope*t + intercept, cols[count])\n",
    "    nextval = -intercept/slope\n",
    "    if abs(funval) < 0.01:\n",
    "        notconverge=0\n",
    "    else:\n",
    "        xvals.append(nextval)\n",
    "    count = count+1\n",
    "\n",
    "plt.show()"
   ]
  },
  {
   "cell_type": "markdown",
   "metadata": {},
   "source": [
    "From the graph, we see the zero is near -2. We make an initial guess of\n",
    "$$x=−1.5$$\n",
    "\n",
    "We have made an excellent choice for our first guess, and we can see rapid convergence!"
   ]
  },
  {
   "cell_type": "code",
   "execution_count": null,
   "metadata": {
    "collapsed": false
   },
   "outputs": [],
   "source": [
    "funval"
   ]
  },
  {
   "cell_type": "markdown",
   "metadata": {},
   "source": [
    "In fact, the Newton-Rhapson method converges quadratically. However, NR (and the secant method) have a fatal flaw:"
   ]
  },
  {
   "cell_type": "code",
   "execution_count": null,
   "metadata": {
    "collapsed": false
   },
   "outputs": [],
   "source": [
    "x = np.arange(-5,5, 0.1);\n",
    "y = (x**3-2*x+7)/(x**4+2)\n",
    "\n",
    "p1=plt.plot(x, y)\n",
    "plt.xlim(-4, 4)\n",
    "plt.ylim(-.5, 4)\n",
    "plt.xlabel('x')\n",
    "plt.axhline(0)\n",
    "plt.title('Bad Guess')\n",
    "t = np.arange(-5, 5., 0.1)\n",
    "\n",
    "x0=-0.5\n",
    "xvals = []\n",
    "xvals.append(x0)\n",
    "notconverge = 1\n",
    "count = 0\n",
    "cols=['r--','b--','g--','y--','c--','m--','k--','w--']\n",
    "while (notconverge==1 and count <  6):\n",
    "    funval=(xvals[count]**3-2*xvals[count]+7)/(xvals[count]**4+2)\n",
    "    slope=-((4*xvals[count]**3 *(7 - 2 *xvals[count] + xvals[count]**3))/(2 + xvals[count]**4)**2) + (-2 + 3 *xvals[count]**2)/(2 + xvals[count]**4)\n",
    "\n",
    "    intercept=-slope*xvals[count]+(xvals[count]**3-2*xvals[count]+7)/(xvals[count]**4+2)\n",
    "\n",
    "    plt.plot(t, slope*t + intercept, cols[count])\n",
    "    nextval = -intercept/slope\n",
    "    if abs(funval) < 0.01:\n",
    "        notconverge = 0\n",
    "    else:\n",
    "        xvals.append(nextval)\n",
    "    count = count+1\n",
    "\n",
    "plt.show()"
   ]
  },
  {
   "cell_type": "markdown",
   "metadata": {},
   "source": [
    "We have stumbled on the horizontal asymptote. The algorithm fails to converge."
   ]
  },
  {
   "cell_type": "markdown",
   "metadata": {},
   "source": [
    "#### Basins of Attraction Can Be ‘Close’"
   ]
  },
  {
   "cell_type": "code",
   "execution_count": null,
   "metadata": {
    "collapsed": false
   },
   "outputs": [],
   "source": [
    "def f(x):\n",
    "    return x**3 - 2*x**2 - 11*x +12\n",
    "def s(x):\n",
    "    return 3*x**2 - 4*x - 11\n",
    "\n",
    "x = np.arange(-5,5, 0.1);\n",
    "\n",
    "p1=plt.plot(x, f(x))\n",
    "plt.xlim(-4, 5)\n",
    "plt.ylim(-20, 22)\n",
    "plt.xlabel('x')\n",
    "plt.axhline(0)\n",
    "plt.title('Basin of Attraction')\n",
    "t = np.arange(-5, 5., 0.1)\n",
    "\n",
    "x0=2.43\n",
    "xvals = []\n",
    "xvals.append(x0)\n",
    "notconverge = 1\n",
    "count = 0\n",
    "cols=['r--','b--','g--','y--','c--','m--','k--','w--']\n",
    "while (notconverge==1 and count <  6):\n",
    "    funval = f(xvals[count])\n",
    "    slope = s(xvals[count])\n",
    "\n",
    "    intercept=-slope*xvals[count]+funval\n",
    "\n",
    "    plt.plot(t, slope*t + intercept, cols[count])\n",
    "    nextval = -intercept/slope\n",
    "    if abs(funval) < 0.01:\n",
    "        notconverge = 0\n",
    "    else:\n",
    "        xvals.append(nextval)\n",
    "    count = count+1\n",
    "\n",
    "plt.show()\n",
    "xvals[count-1]"
   ]
  },
  {
   "cell_type": "code",
   "execution_count": null,
   "metadata": {
    "collapsed": false
   },
   "outputs": [],
   "source": [
    "p1=plt.plot(x, f(x))\n",
    "plt.xlim(-4, 5)\n",
    "plt.ylim(-20, 22)\n",
    "plt.xlabel('x')\n",
    "plt.axhline(0)\n",
    "plt.title('Basin of Attraction')\n",
    "t = np.arange(-5, 5., 0.1)\n",
    "\n",
    "x0=2.349\n",
    "xvals = []\n",
    "xvals.append(x0)\n",
    "notconverge = 1\n",
    "count = 0\n",
    "cols=['r--','b--','g--','y--','c--','m--','k--','w--']\n",
    "while (notconverge==1 and count <  6):\n",
    "    funval = f(xvals[count])\n",
    "    slope = s(xvals[count])\n",
    "\n",
    "    intercept=-slope*xvals[count]+funval\n",
    "\n",
    "    plt.plot(t, slope*t + intercept, cols[count])\n",
    "    nextval = -intercept/slope\n",
    "    if abs(funval) < 0.01:\n",
    "        notconverge = 0\n",
    "    else:\n",
    "        xvals.append(nextval)\n",
    "    count = count+1\n",
    "\n",
    "plt.show()\n",
    "xvals[count-1]"
   ]
  },
  {
   "cell_type": "markdown",
   "metadata": {},
   "source": [
    "#### Convergence Rate\n",
    "The following is a derivation of the convergence rate of the NR method:"
   ]
  },
  {
   "cell_type": "markdown",
   "metadata": {},
   "source": [
    "## Inverse Quadratic Interpolation"
   ]
  },
  {
   "cell_type": "markdown",
   "metadata": {},
   "source": [
    "Inverse quadratic interpolation is a type of polynomial interpolation. Polynomial interpolation simply means we find the polynomial of least degree that fits a set of points. In quadratic interpolation, we use three points, and find the quadratic polynomial that passes through those three points."
   ]
  },
  {
   "cell_type": "code",
   "execution_count": null,
   "metadata": {
    "collapsed": false
   },
   "outputs": [],
   "source": [
    "def f(x):\n",
    "    return (x - 2) * x * (x + 2)**2\n",
    "\n",
    "\n",
    "x = np.arange(-5,5, 0.1);\n",
    "plt.plot(x, f(x))\n",
    "plt.xlim(-3.5, 0.5)\n",
    "plt.ylim(-5, 16)\n",
    "plt.xlabel('x')\n",
    "plt.axhline(0)\n",
    "plt.title(\"Quadratic Interpolation\")\n",
    "\n",
    "#First Interpolation\n",
    "x0=np.array([-3,-2.5,-1.0])\n",
    "y0=f(x0)\n",
    "f2 = interp1d(x0, y0,kind='quadratic')\n",
    "\n",
    "#Plot parabola\n",
    "xs = np.linspace(-3, -1, num=10000, endpoint=True)\n",
    "plt.plot(xs, f2(xs))\n",
    "\n",
    "#Plot first triplet\n",
    "plt.plot(x0, f(x0),'ro');\n",
    "plt.scatter(x0, f(x0), s=50, c='yellow');\n",
    "\n",
    "#New x value\n",
    "xnew=xs[np.where(abs(f2(xs))==min(abs(f2(xs))))]\n",
    "\n",
    "plt.scatter(np.append(xnew,xnew), np.append(0,f(xnew)), c='black');\n",
    "\n",
    "#New triplet\n",
    "x1=np.append([-3,-2.5],xnew)\n",
    "y1=f(x1)\n",
    "f2 = interp1d(x1, y1,kind='quadratic')\n",
    "\n",
    "#New Parabola\n",
    "xs = np.linspace(min(x1), max(x1), num=100, endpoint=True)\n",
    "plt.plot(xs, f2(xs))\n",
    "\n",
    "xnew=xs[np.where(abs(f2(xs))==min(abs(f2(xs))))]\n",
    "plt.scatter(np.append(xnew,xnew), np.append(0,f(xnew)), c='green');"
   ]
  },
  {
   "cell_type": "markdown",
   "metadata": {},
   "source": [
    "We aren’t so much interested in deriving this as we are understanding the procedure:"
   ]
  },
  {
   "cell_type": "code",
   "execution_count": null,
   "metadata": {
    "collapsed": false
   },
   "outputs": [],
   "source": [
    "x = np.arange(-5,5, 0.1);\n",
    "plt.plot(x, f(x))\n",
    "plt.xlim(-3.5, 0.5)\n",
    "plt.ylim(-5, 16)\n",
    "plt.xlabel('x')\n",
    "plt.axhline(0)\n",
    "plt.title(\"Inverse Quadratic Interpolation\")\n",
    "\n",
    "#First Interpolation\n",
    "x0=np.array([-3,-2.5,1])\n",
    "y0=f(x0)\n",
    "f2 = interp1d(y0, x0,kind='quadratic')\n",
    "\n",
    "#Plot parabola\n",
    "xs = np.linspace(min(f(x0)), max(f(x0)), num=10000, endpoint=True)\n",
    "plt.plot(f2(xs), xs)\n",
    "\n",
    "#Plot first triplet\n",
    "plt.plot(x0, f(x0),'ro');\n",
    "plt.scatter(x0, f(x0), s=50, c='yellow');"
   ]
  },
  {
   "cell_type": "markdown",
   "metadata": {},
   "source": [
    "## Brent’s Method\n",
    "Brent’s method is a combination of bisection, secant and inverse quadratic interpolation. Like bisection, it is a ‘bracketed’ method (starts with points (a,b) such that $f(a)f(b)<0$\n",
    "\n",
    "\n",
    "Roughly speaking, the method begins by using the secant method to obtain a third point c\n",
    ", then uses inverse quadratic interpolation to generate the next possible root. Without going into too much detail, the algorithm attempts to assess when interpolation will go awry, and if so, performs a bisection step. Also, it has certain criteria to reject an iterate. If that happens, the next step will be linear interpolation (secant method)."
   ]
  },
  {
   "cell_type": "markdown",
   "metadata": {},
   "source": [
    "### The Brent method is the default method that scypy uses to minimize a univariate function:"
   ]
  },
  {
   "cell_type": "code",
   "execution_count": null,
   "metadata": {
    "collapsed": false
   },
   "outputs": [],
   "source": [
    "from scipy.optimize import minimize_scalar\n",
    "\n",
    "def f(x):\n",
    "    return (x - 2) * x * (x + 2)**2\n",
    "\n",
    "res = minimize_scalar(f)\n",
    "res.x"
   ]
  },
  {
   "cell_type": "code",
   "execution_count": null,
   "metadata": {
    "collapsed": false
   },
   "outputs": [],
   "source": [
    "x = np.arange(-5,5, 0.1);\n",
    "p1=plt.plot(x, f(x))\n",
    "plt.xlim(-4, 4)\n",
    "plt.ylim(-10, 20)\n",
    "plt.xlabel('x')\n",
    "plt.axhline(0)"
   ]
  },
  {
   "cell_type": "code",
   "execution_count": null,
   "metadata": {
    "collapsed": false
   },
   "outputs": [],
   "source": [
    "# To find zeroes, use\n",
    "scipy.optimize.brentq(f,-1,.5)"
   ]
  },
  {
   "cell_type": "code",
   "execution_count": null,
   "metadata": {
    "collapsed": false
   },
   "outputs": [],
   "source": [
    "scipy.optimize.brentq(f,.5,3)"
   ]
  },
  {
   "cell_type": "code",
   "execution_count": null,
   "metadata": {
    "collapsed": false
   },
   "outputs": [],
   "source": [
    "scipy.optimize.newton(f,-3)"
   ]
  }
 ],
 "metadata": {
  "anaconda-cloud": {},
  "kernelspec": {
   "display_name": "Python [Root]",
   "language": "python",
   "name": "Python [Root]"
  },
  "language_info": {
   "codemirror_mode": {
    "name": "ipython",
    "version": 3
   },
   "file_extension": ".py",
   "mimetype": "text/x-python",
   "name": "python",
   "nbconvert_exporter": "python",
   "pygments_lexer": "ipython3",
   "version": "3.5.2"
  }
 },
 "nbformat": 4,
 "nbformat_minor": 0
}
