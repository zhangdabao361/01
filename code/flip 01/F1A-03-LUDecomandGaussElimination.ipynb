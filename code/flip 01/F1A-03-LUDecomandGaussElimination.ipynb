{
 "cells": [
  {
   "cell_type": "markdown",
   "metadata": {},
   "source": [
    "# FLIP(01):  Advanced Data Science\n",
    "**(Module 00: Matrix Analysis)**\n",
    "\n",
    "---\n",
    "- Materials in this module include resources collected from various open-source online repositories.\n",
    "- You are free to use, but NOT allowed to change or distribute this package.\n",
    "\n",
    "Prepared by and for \n",
    "**Student Members** |\n",
    "2006-2018 [TULIP Lab](http://www.tulip.org.au)\n",
    "\n",
    "---\n",
    "\n",
    "\n",
    "# Session 03 - Matrix Decompositions\n",
    "\n",
    "Matrix decompositions are an important step in solving linear systems in a computationally efficient manner."
   ]
  },
  {
   "cell_type": "code",
   "execution_count": null,
   "metadata": {
    "collapsed": true
   },
   "outputs": [],
   "source": [
    "import os\n",
    "import sys\n",
    "import glob\n",
    "import matplotlib.pyplot as plt\n",
    "import numpy as np\n",
    "import pandas as pd\n",
    "%matplotlib inline\n",
    "%precision 4\n",
    "plt.style.use('ggplot')"
   ]
  },
  {
   "cell_type": "markdown",
   "metadata": {},
   "source": [
    "###  LU Decomposition and Gaussian Elimination\n",
    "\n",
    "\n",
    "LU stands for ‘Lower Upper’, and so an **LU** decomposition of a matrix $ A $ is a decomposition so that\n",
    "\n",
    "<center>$A=LU$ </center>\n",
    " \n",
    "where $ L $ is lower triangular and $ U $ is upper triangular.\n",
    "\n",
    "Now, LU decomposition is essentially gaussian elimination, but we work only with the matrix $ A $ (as opposed to the augmented matrix).\n",
    "\n",
    "Let’s review how gaussian elimination (ge) works. We will deal with a  $ 3×3 $\n",
    "system of equations for conciseness, but everything here generalizes to the $ n×n $ case. Consider the following equation:\\\n",
    "![](figures/Matrix1.png)\n",
    "\n",
    "For simplicity, let us assume that the leftmost matrix $ A $ is non-singular. To solve the system using ge, we start with the ‘augmented matrix’:\n",
    "![](figures/Matrix2.png)\n",
    "\n",
    "We begin at the first entry, **a**<sub>11</sub>. If  **a**<sub>11</sub> ≠0 , then we divide the first row by **a**<sub>11</sub> and then subtract the appropriate multiple of the first row from each of the other rows, zeroing out the first entry of all rows. (If **a**<sub>11</sub> is zero, we need to permute rows. We will not go into detail of that here.) The result is as follows:\n",
    "![](figures/Matrix3.png)\n"
   ]
  },
  {
   "cell_type": "markdown",
   "metadata": {},
   "source": [
    "\n",
    "We repeat the procedure for the second row, first dividing by the leading entry, then subtracting the appropriate multiple of the resulting row from each of the third and first rows, so that the second entry in row 1 and in row 3 are zero. We could continue until the matrix on the left is the identity. In that case, we can then just ‘read off’ the solution: i.e., the vector *$ x $* is the resulting column vector on the right. Usually, it is more efficient to stop at *reduced row eschelon* form (upper triangular, with ones on the diagonal), and then use back substitution to obtain the final answer.\n",
    "\n",
    "Note that in some cases, it is necessary to permute rows to obtain reduced row eschelon form. This is called *partial pivoting*. If we also manipulate columns, that is called *full pivoting*.\n",
    "\n",
    "It should be mentioned that we may obtain the inverse of a matrix using ge, by reducing the matrix *$ A $* to the identity, with the identity matrix as the augmented portion.\n",
    "\n",
    "Now, this is all fine when we are solving a system one time, for one outcome *$ b $*. Many applications involve solutions to multiple problems, where the left-hand-side of our matrix equation does not change, but there are many outcome vectors *$ b $*. In this case, it is more efficient to decompose *$ A $* .\n",
    "\n",
    "First, we start just as in ge, but we ‘keep track’ of the various multiples required to eliminate entries. For example, consider the matrix\n",
    "![](figures/Matrix4.png)\n",
    "\n",
    "We need to multiply row **1** by **2** and subtract from row **2** to eliminate the first entry in row **2**, and then multiply row **1** by **4** and subtract from row **3**. Instead of entering zeroes into the first entries of rows **2** and **3**, we record the multiples required for their elimination, as so:\n",
    "![](figures/Matrix5.png)\n",
    "\n",
    "And then we eliminate the second entry in the third row:\n",
    "![](figures/Matrix6.png)\n",
    "\n",
    "And now we have the decomposition:\n",
    "![](figures/Matrix7.png)\n"
   ]
  },
  {
   "cell_type": "code",
   "execution_count": null,
   "metadata": {
    "collapsed": false,
    "scrolled": true
   },
   "outputs": [],
   "source": [
    "import numpy as np\n",
    "import scipy.linalg as la\n",
    "np.set_printoptions(suppress=True)\n",
    "\n",
    "A = np.array([[1,3,4],[2,1,3],[4,1,2]])\n",
    "\n",
    "L = np.array([[1,0,0],[2,1,0],[4,11/5,1]])\n",
    "U = np.array([[1,3,4],[0,-5,-5],[0,0,-3]])\n",
    "print(L.dot(U))\n",
    "print(L)\n",
    "print(U)"
   ]
  },
  {
   "cell_type": "markdown",
   "metadata": {},
   "source": [
    "We can solve the system by solving two back-substitution problems:\n",
    "<center>$Ly=b$</center>\n",
    "\n",
    "and\n",
    "<center>$Ux=y$</center>\n",
    "\n",
    "These are both $O(n$<sup>$2$</sup>$)$, so it is more efficient to decompose when there are multiple outcomes to solve for.\n",
    "\n",
    "Let do this with numpy:"
   ]
  },
  {
   "cell_type": "code",
   "execution_count": null,
   "metadata": {
    "collapsed": false
   },
   "outputs": [],
   "source": [
    "import numpy as np\n",
    "import scipy.linalg as la\n",
    "np.set_printoptions(suppress=True)\n",
    "\n",
    "A = np.array([[1,3,4],[2,1,3],[4,1,2]])\n",
    "\n",
    "print(A)\n",
    "\n",
    "P, L, U = la.lu(A)\n",
    "print(np.dot(P.T, A))\n",
    "print\n",
    "print(np.dot(L, U))\n",
    "print(P)\n",
    "print(L)\n",
    "print(U)"
   ]
  },
  {
   "cell_type": "markdown",
   "metadata": {},
   "source": [
    "Note that the numpy decomposition uses *partial pivoting* (matrix rows are permuted to use the largest pivot). This is because small pivots can lead to numerical instability. Another reason why one should use library functions whenever possible!"
   ]
  }
 ],
 "metadata": {
  "anaconda-cloud": {},
  "kernelspec": {
   "display_name": "Python [Root]",
   "language": "python",
   "name": "Python [Root]"
  },
  "language_info": {
   "codemirror_mode": {
    "name": "ipython",
    "version": 3
   },
   "file_extension": ".py",
   "mimetype": "text/x-python",
   "name": "python",
   "nbconvert_exporter": "python",
   "pygments_lexer": "ipython3",
   "version": "3.5.2"
  }
 },
 "nbformat": 4,
 "nbformat_minor": 0
}
